{
  "nbformat": 4,
  "nbformat_minor": 0,
  "metadata": {
    "colab": {
      "provenance": [],
      "toc_visible": true,
      "include_colab_link": true
    },
    "kernelspec": {
      "name": "python3",
      "display_name": "Python 3"
    },
    "language_info": {
      "name": "python"
    },
    "widgets": {
      "application/vnd.jupyter.widget-state+json": {
        "b026c20b95c24ee08e4aba1f4b3b4ca4": {
          "model_module": "@jupyter-widgets/controls",
          "model_name": "HBoxModel",
          "model_module_version": "1.5.0",
          "state": {
            "_dom_classes": [],
            "_model_module": "@jupyter-widgets/controls",
            "_model_module_version": "1.5.0",
            "_model_name": "HBoxModel",
            "_view_count": null,
            "_view_module": "@jupyter-widgets/controls",
            "_view_module_version": "1.5.0",
            "_view_name": "HBoxView",
            "box_style": "",
            "children": [
              "IPY_MODEL_c8de12d937454934b3caad65570c4fb9",
              "IPY_MODEL_cbbcc1d4b1e8484c9ec8e0b9c243bae4",
              "IPY_MODEL_faca7df3976f412d8166a6086c20dd43"
            ],
            "layout": "IPY_MODEL_e7ed2205e422477f8e40982fcd3e8b30"
          }
        },
        "c8de12d937454934b3caad65570c4fb9": {
          "model_module": "@jupyter-widgets/controls",
          "model_name": "HTMLModel",
          "model_module_version": "1.5.0",
          "state": {
            "_dom_classes": [],
            "_model_module": "@jupyter-widgets/controls",
            "_model_module_version": "1.5.0",
            "_model_name": "HTMLModel",
            "_view_count": null,
            "_view_module": "@jupyter-widgets/controls",
            "_view_module_version": "1.5.0",
            "_view_name": "HTMLView",
            "description": "",
            "description_tooltip": null,
            "layout": "IPY_MODEL_0406b8162df4406a9727a075c3cc14a3",
            "placeholder": "​",
            "style": "IPY_MODEL_4574038111ec4566b07f00d7ce4cda7b",
            "value": "100%"
          }
        },
        "cbbcc1d4b1e8484c9ec8e0b9c243bae4": {
          "model_module": "@jupyter-widgets/controls",
          "model_name": "FloatProgressModel",
          "model_module_version": "1.5.0",
          "state": {
            "_dom_classes": [],
            "_model_module": "@jupyter-widgets/controls",
            "_model_module_version": "1.5.0",
            "_model_name": "FloatProgressModel",
            "_view_count": null,
            "_view_module": "@jupyter-widgets/controls",
            "_view_module_version": "1.5.0",
            "_view_name": "ProgressView",
            "bar_style": "success",
            "description": "",
            "description_tooltip": null,
            "layout": "IPY_MODEL_9ec5b5dc77464448a2aa05eaa153a341",
            "max": 170498071,
            "min": 0,
            "orientation": "horizontal",
            "style": "IPY_MODEL_99309f985f6c48d0a258f24b6c2797b5",
            "value": 170498071
          }
        },
        "faca7df3976f412d8166a6086c20dd43": {
          "model_module": "@jupyter-widgets/controls",
          "model_name": "HTMLModel",
          "model_module_version": "1.5.0",
          "state": {
            "_dom_classes": [],
            "_model_module": "@jupyter-widgets/controls",
            "_model_module_version": "1.5.0",
            "_model_name": "HTMLModel",
            "_view_count": null,
            "_view_module": "@jupyter-widgets/controls",
            "_view_module_version": "1.5.0",
            "_view_name": "HTMLView",
            "description": "",
            "description_tooltip": null,
            "layout": "IPY_MODEL_38d12346b88647e0b9b38fc00ddca16b",
            "placeholder": "​",
            "style": "IPY_MODEL_92e85678abfc41fa99975acbcaac5c90",
            "value": " 170498071/170498071 [00:04&lt;00:00, 49100953.48it/s]"
          }
        },
        "e7ed2205e422477f8e40982fcd3e8b30": {
          "model_module": "@jupyter-widgets/base",
          "model_name": "LayoutModel",
          "model_module_version": "1.2.0",
          "state": {
            "_model_module": "@jupyter-widgets/base",
            "_model_module_version": "1.2.0",
            "_model_name": "LayoutModel",
            "_view_count": null,
            "_view_module": "@jupyter-widgets/base",
            "_view_module_version": "1.2.0",
            "_view_name": "LayoutView",
            "align_content": null,
            "align_items": null,
            "align_self": null,
            "border": null,
            "bottom": null,
            "display": null,
            "flex": null,
            "flex_flow": null,
            "grid_area": null,
            "grid_auto_columns": null,
            "grid_auto_flow": null,
            "grid_auto_rows": null,
            "grid_column": null,
            "grid_gap": null,
            "grid_row": null,
            "grid_template_areas": null,
            "grid_template_columns": null,
            "grid_template_rows": null,
            "height": null,
            "justify_content": null,
            "justify_items": null,
            "left": null,
            "margin": null,
            "max_height": null,
            "max_width": null,
            "min_height": null,
            "min_width": null,
            "object_fit": null,
            "object_position": null,
            "order": null,
            "overflow": null,
            "overflow_x": null,
            "overflow_y": null,
            "padding": null,
            "right": null,
            "top": null,
            "visibility": null,
            "width": null
          }
        },
        "0406b8162df4406a9727a075c3cc14a3": {
          "model_module": "@jupyter-widgets/base",
          "model_name": "LayoutModel",
          "model_module_version": "1.2.0",
          "state": {
            "_model_module": "@jupyter-widgets/base",
            "_model_module_version": "1.2.0",
            "_model_name": "LayoutModel",
            "_view_count": null,
            "_view_module": "@jupyter-widgets/base",
            "_view_module_version": "1.2.0",
            "_view_name": "LayoutView",
            "align_content": null,
            "align_items": null,
            "align_self": null,
            "border": null,
            "bottom": null,
            "display": null,
            "flex": null,
            "flex_flow": null,
            "grid_area": null,
            "grid_auto_columns": null,
            "grid_auto_flow": null,
            "grid_auto_rows": null,
            "grid_column": null,
            "grid_gap": null,
            "grid_row": null,
            "grid_template_areas": null,
            "grid_template_columns": null,
            "grid_template_rows": null,
            "height": null,
            "justify_content": null,
            "justify_items": null,
            "left": null,
            "margin": null,
            "max_height": null,
            "max_width": null,
            "min_height": null,
            "min_width": null,
            "object_fit": null,
            "object_position": null,
            "order": null,
            "overflow": null,
            "overflow_x": null,
            "overflow_y": null,
            "padding": null,
            "right": null,
            "top": null,
            "visibility": null,
            "width": null
          }
        },
        "4574038111ec4566b07f00d7ce4cda7b": {
          "model_module": "@jupyter-widgets/controls",
          "model_name": "DescriptionStyleModel",
          "model_module_version": "1.5.0",
          "state": {
            "_model_module": "@jupyter-widgets/controls",
            "_model_module_version": "1.5.0",
            "_model_name": "DescriptionStyleModel",
            "_view_count": null,
            "_view_module": "@jupyter-widgets/base",
            "_view_module_version": "1.2.0",
            "_view_name": "StyleView",
            "description_width": ""
          }
        },
        "9ec5b5dc77464448a2aa05eaa153a341": {
          "model_module": "@jupyter-widgets/base",
          "model_name": "LayoutModel",
          "model_module_version": "1.2.0",
          "state": {
            "_model_module": "@jupyter-widgets/base",
            "_model_module_version": "1.2.0",
            "_model_name": "LayoutModel",
            "_view_count": null,
            "_view_module": "@jupyter-widgets/base",
            "_view_module_version": "1.2.0",
            "_view_name": "LayoutView",
            "align_content": null,
            "align_items": null,
            "align_self": null,
            "border": null,
            "bottom": null,
            "display": null,
            "flex": null,
            "flex_flow": null,
            "grid_area": null,
            "grid_auto_columns": null,
            "grid_auto_flow": null,
            "grid_auto_rows": null,
            "grid_column": null,
            "grid_gap": null,
            "grid_row": null,
            "grid_template_areas": null,
            "grid_template_columns": null,
            "grid_template_rows": null,
            "height": null,
            "justify_content": null,
            "justify_items": null,
            "left": null,
            "margin": null,
            "max_height": null,
            "max_width": null,
            "min_height": null,
            "min_width": null,
            "object_fit": null,
            "object_position": null,
            "order": null,
            "overflow": null,
            "overflow_x": null,
            "overflow_y": null,
            "padding": null,
            "right": null,
            "top": null,
            "visibility": null,
            "width": null
          }
        },
        "99309f985f6c48d0a258f24b6c2797b5": {
          "model_module": "@jupyter-widgets/controls",
          "model_name": "ProgressStyleModel",
          "model_module_version": "1.5.0",
          "state": {
            "_model_module": "@jupyter-widgets/controls",
            "_model_module_version": "1.5.0",
            "_model_name": "ProgressStyleModel",
            "_view_count": null,
            "_view_module": "@jupyter-widgets/base",
            "_view_module_version": "1.2.0",
            "_view_name": "StyleView",
            "bar_color": null,
            "description_width": ""
          }
        },
        "38d12346b88647e0b9b38fc00ddca16b": {
          "model_module": "@jupyter-widgets/base",
          "model_name": "LayoutModel",
          "model_module_version": "1.2.0",
          "state": {
            "_model_module": "@jupyter-widgets/base",
            "_model_module_version": "1.2.0",
            "_model_name": "LayoutModel",
            "_view_count": null,
            "_view_module": "@jupyter-widgets/base",
            "_view_module_version": "1.2.0",
            "_view_name": "LayoutView",
            "align_content": null,
            "align_items": null,
            "align_self": null,
            "border": null,
            "bottom": null,
            "display": null,
            "flex": null,
            "flex_flow": null,
            "grid_area": null,
            "grid_auto_columns": null,
            "grid_auto_flow": null,
            "grid_auto_rows": null,
            "grid_column": null,
            "grid_gap": null,
            "grid_row": null,
            "grid_template_areas": null,
            "grid_template_columns": null,
            "grid_template_rows": null,
            "height": null,
            "justify_content": null,
            "justify_items": null,
            "left": null,
            "margin": null,
            "max_height": null,
            "max_width": null,
            "min_height": null,
            "min_width": null,
            "object_fit": null,
            "object_position": null,
            "order": null,
            "overflow": null,
            "overflow_x": null,
            "overflow_y": null,
            "padding": null,
            "right": null,
            "top": null,
            "visibility": null,
            "width": null
          }
        },
        "92e85678abfc41fa99975acbcaac5c90": {
          "model_module": "@jupyter-widgets/controls",
          "model_name": "DescriptionStyleModel",
          "model_module_version": "1.5.0",
          "state": {
            "_model_module": "@jupyter-widgets/controls",
            "_model_module_version": "1.5.0",
            "_model_name": "DescriptionStyleModel",
            "_view_count": null,
            "_view_module": "@jupyter-widgets/base",
            "_view_module_version": "1.2.0",
            "_view_name": "StyleView",
            "description_width": ""
          }
        }
      }
    },
    "gpuClass": "standard",
    "accelerator": "GPU"
  },
  "cells": [
    {
      "cell_type": "markdown",
      "metadata": {
        "id": "view-in-github",
        "colab_type": "text"
      },
      "source": [
        "<a href=\"https://colab.research.google.com/github/Hansanghyun-github/my_prototype/blob/main/test_vit.ipynb\" target=\"_parent\"><img src=\"https://colab.research.google.com/assets/colab-badge.svg\" alt=\"Open In Colab\"/></a>"
      ]
    },
    {
      "cell_type": "markdown",
      "source": [
        "# simple transformer"
      ],
      "metadata": {
        "id": "41LyCc1sU51t"
      }
    },
    {
      "cell_type": "code",
      "metadata": {
        "id": "OEeLM9ZGH-C8",
        "colab": {
          "base_uri": "https://localhost:8080/"
        },
        "outputId": "36cf0da9-f1c7-4f28-f91b-011d56c6a507"
      },
      "source": [
        "!pip install einops\n",
        "!pip install torchsummary"
      ],
      "execution_count": 1,
      "outputs": [
        {
          "output_type": "stream",
          "name": "stdout",
          "text": [
            "Looking in indexes: https://pypi.org/simple, https://us-python.pkg.dev/colab-wheels/public/simple/\n",
            "Collecting einops\n",
            "  Downloading einops-0.6.0-py3-none-any.whl (41 kB)\n",
            "\u001b[?25l\r\u001b[K     |███████▉                        | 10 kB 28.1 MB/s eta 0:00:01\r\u001b[K     |███████████████▊                | 20 kB 19.1 MB/s eta 0:00:01\r\u001b[K     |███████████████████████▋        | 30 kB 10.6 MB/s eta 0:00:01\r\u001b[K     |███████████████████████████████▌| 40 kB 4.3 MB/s eta 0:00:01\r\u001b[K     |████████████████████████████████| 41 kB 506 kB/s \n",
            "\u001b[?25hInstalling collected packages: einops\n",
            "Successfully installed einops-0.6.0\n",
            "Looking in indexes: https://pypi.org/simple, https://us-python.pkg.dev/colab-wheels/public/simple/\n",
            "Requirement already satisfied: torchsummary in /usr/local/lib/python3.8/dist-packages (1.5.1)\n"
          ]
        }
      ]
    },
    {
      "cell_type": "code",
      "metadata": {
        "id": "YCR3wTpB_DF_"
      },
      "source": [
        "import torch \n",
        "import torch.nn as nn \n",
        "import torch.nn.functional as F\n",
        "import torch.optim as optim \n",
        "import torch.backends.cudnn as cudnn \n",
        "import torchvision \n",
        "import torchvision.transforms as transforms\n",
        "\n",
        "import os\n",
        "import pandas as pd\n",
        "import csv\n",
        "import numpy as np\n",
        "from einops import rearrange \n",
        "\n",
        "import matplotlib.pyplot as plt\n",
        "import pdb\n",
        "import albumentations\n",
        "import time\n",
        "from torchsummary import summary"
      ],
      "execution_count": 2,
      "outputs": []
    },
    {
      "cell_type": "code",
      "metadata": {
        "id": "dY2VAxS0_luS"
      },
      "source": [
        "# transformer encoder의 residual connection\n",
        "class Residual(nn.Module):\n",
        "  def __init__(self, fn): \n",
        "    super().__init__()\n",
        "    self.fn = fn \n",
        "\n",
        "  def forward(self, x):\n",
        "    return self.fn(x) + x"
      ],
      "execution_count": 3,
      "outputs": []
    },
    {
      "cell_type": "code",
      "metadata": {
        "id": "8YZ4yMDiCyX1"
      },
      "source": [
        "# transformer encoder의 layer normalization\n",
        "class PreNorm(nn.Module): \n",
        "  def __init__(self, dim, fn):\n",
        "    super().__init__()\n",
        "    self.norm = nn.LayerNorm(dim)\n",
        "    self.fn = fn \n",
        "\n",
        "  def forward(self, x):\n",
        "    return self.fn(self.norm(x))"
      ],
      "execution_count": 4,
      "outputs": []
    },
    {
      "cell_type": "code",
      "metadata": {
        "id": "rdCvfKuaDplu"
      },
      "source": [
        "# transformer encoder의 MLP layer\n",
        "class FeedForward(nn.Module):\n",
        "  def __init__(self, dim, hidden_dim, dropout=0.):\n",
        "    super().__init__() \n",
        "    self.net = nn.Sequential(\n",
        "        nn.Linear(dim, hidden_dim), \n",
        "        nn.GELU(), \n",
        "        nn.Dropout(dropout),\n",
        "        nn.Linear(hidden_dim, dim), \n",
        "        nn.Dropout(dropout)\n",
        "    )\n",
        "\n",
        "  def forward(self, x): \n",
        "    return self.net(x)"
      ],
      "execution_count": 5,
      "outputs": []
    },
    {
      "cell_type": "markdown",
      "source": [
        "# Multi-Head Self-Attention layer\n",
        "![123123.PNG](data:image/png;base64,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)"
      ],
      "metadata": {
        "id": "4HmAUuJZxWb2"
      }
    },
    {
      "cell_type": "code",
      "metadata": {
        "id": "hQaI0szTEwAt"
      },
      "source": [
        "# transformer encoder의 Multi-Head Self-Attention\n",
        "class Attention(nn.Module): \n",
        "  def __init__(self, dim, heads=8, dropout=0.):\n",
        "    super().__init__()\n",
        "    self.heads = heads \n",
        "    self.scales = heads ** (-0.5)\n",
        "\n",
        "    self.to_qkv = nn.Linear(dim, dim * 3, bias=False)\n",
        "    self.to_out = nn.Sequential(\n",
        "        nn.Linear(dim, dim), \n",
        "        nn.Dropout(dropout)\n",
        "    )\n",
        "\n",
        "  def forward(self, x):\n",
        "    b, n, _, h = *x.shape, self.heads\n",
        "\n",
        "    # input vector를 이용해서 query, key, value vector 생성\n",
        "    # (batch, n, dim)이 3개인 tuple 형태\n",
        "    qkv = self.to_qkv(x).chunk(3, dim=-1)\n",
        "\n",
        "    # 각각의 vector를 head 만큼 split\n",
        "    # (batch, n, dim) -> (batch, head, n, dim/head)\n",
        "    q, k, v = map(lambda t: rearrange(t, \"b n (h d) -> b h n d\", h=h), qkv)\n",
        "\n",
        "    # compute similarity (scaled dot product) (batch와 head를 유지하면서 행렬곱 진행)\n",
        "    # (batch, head, i, d), (batch, head, j, d) -> (batch, head, i, j) // (i는 query의 개수, j는 key의 개수)\n",
        "    dots = torch.einsum(\"bhid, bhjd->bhij\", q, k) * self.scales\n",
        "\n",
        "    # compute attention weights\n",
        "    # (batch, head, i, j)\n",
        "    attn = dots.softmax(dim=-1)\n",
        "\n",
        "    # compute output vector (batch와 head 유지하면서 행렬곱 진행)\n",
        "    # (batch, head, i, j), (batch, head, i, d) -> (batch, head, i, d)\n",
        "    out = torch.einsum(\"bhij,bhjd->bhid\", attn, v)\n",
        "\n",
        "    # split했던 head들을 concat\n",
        "    # (batch, head, i, d) -> (batch, i, head * d)\n",
        "    out = rearrange(out, \"b h n d -> b n (h d)\")\n",
        "\n",
        "    out = self.to_out(out)\n",
        "    return out"
      ],
      "execution_count": 16,
      "outputs": []
    },
    {
      "cell_type": "code",
      "source": [
        "# transformer encoder\n",
        "class Transformer(nn.Module):\n",
        "  def __init__(self, dim, depth, heads, mlp_dim, dropout):\n",
        "    super().__init__()\n",
        "    self.layers = nn.ModuleList([])\n",
        "\n",
        "    # depth만큼 transformer block 쌓음\n",
        "    for _ in range(depth):\n",
        "      self.layers.append(nn.ModuleList([\n",
        "                                        Residual(PreNorm(dim, Attention(dim, heads=heads, dropout=dropout))), \n",
        "                                        Residual(PreNorm(dim, FeedForward(dim, mlp_dim, dropout=dropout)))\n",
        "      ]))\n",
        "\n",
        "  def forward(self, x):\n",
        "    for attn, ff in self.layers:\n",
        "      x = attn(x) # LayerNorm->Attention->Residual connection\n",
        "      x = ff(x)   # LayerNorm->MLP Layer->Residual connection\n",
        "    return x"
      ],
      "metadata": {
        "id": "yaw76YmvvAxB"
      },
      "execution_count": null,
      "outputs": []
    },
    {
      "cell_type": "markdown",
      "source": [
        "# vit layer"
      ],
      "metadata": {
        "id": "dsB60BdDd5zm"
      }
    },
    {
      "cell_type": "code",
      "metadata": {
        "id": "Lm39nB3qM2qB"
      },
      "source": [
        "MIN_NUM_PATCHES = 16\n",
        "class ViT(nn.Module): \n",
        "  def __init__(self, *, image_size, patch_size, num_classes, dim, depth, heads, mlp_dim, channels=3, dropout=0., emb_dropout=0.):\n",
        "    super().__init__()\n",
        "    assert image_size % patch_size == 0, \"image size must be divisible for the patch size\"\n",
        "    num_patches = (image_size // patch_size) ** 2\n",
        "    patch_dim = channels * patch_size**2 \n",
        "    assert num_patches >= MIN_NUM_PATCHES,  f'your number of patches ({num_patches}) is way too small for attention to be effective. try decreasing your patch size'\n",
        "\n",
        "    self.patch_size = patch_size \n",
        "\n",
        "    self.pos_embedding = nn.Parameter(torch.randn(1, num_patches+1, dim))\n",
        "    self.patch_to_embedding = nn.Linear(patch_dim, dim, bias=False)\n",
        "    self.cls_token = nn.Parameter(torch.randn(1, 1, dim))\n",
        "    self.dropout = nn.Dropout(emb_dropout)\n",
        "\n",
        "    self.transformer = Transformer(dim, depth, heads, mlp_dim, dropout)\n",
        "\n",
        "    self.to_cls_token = nn.Identity()\n",
        "\n",
        "    self.mlp_head = nn.Sequential(\n",
        "        nn.LayerNorm(dim), \n",
        "        nn.Linear(dim, mlp_dim), \n",
        "        nn.GELU(), \n",
        "        nn.Dropout(dropout), \n",
        "        nn.Linear(mlp_dim, num_classes)\n",
        "    )\n",
        "\n",
        "  def forward(self, img):\n",
        "    # img shape = (batch size, channel, height, width)\n",
        "\n",
        "    p = self.patch_size\n",
        "    \n",
        "    # 이미지를 패치로 자름, 각 패치를 flatten(1-Dimension) 하게 만듬\n",
        "    # (batch size, channel, height, width) -> (batch size, number of patch, patch_dim)\n",
        "    x = rearrange(img, \"b c (h p1) (w p2) -> b (h w) (p1 p2 c)\", p1=p, p2=p)\n",
        "    \n",
        "    # patch embedding\n",
        "    # (batch size, number of patch, patch_dim) -> (batch size, number of patch, dim)\n",
        "    x = self.patch_to_embedding(x)\n",
        "    b, n, _ = x.shape\n",
        "\n",
        "    # class token embedding vector를 batch size만큼 확장\n",
        "    # (batch size, 1, dim)\n",
        "    cls_tokens = self.cls_token.expand(b, -1, -1)\n",
        "\n",
        "    # x 맨 앞에 cls_tokens 붙힘\n",
        "    # (batch size, number of patch, dim) -> (batch size, number of patch + 1, dim)\n",
        "    x = torch.cat((cls_tokens, x), dim=1)\n",
        "\n",
        "    # x에 pos_embedding 더해줌\n",
        "    # shape 같음\n",
        "    x += self.pos_embedding[:, :(n+1)]\n",
        "    x = self.dropout(x)\n",
        "\n",
        "    # trnasformer encoder layer\n",
        "    # (batch size, number of patch + 1, dim) -> (batch size, number of patch + 1, dim)\n",
        "    x = self.transformer(x)\n",
        "\n",
        "    # x 맨앞의 head(class token embedding vector) 추출\n",
        "    # (batch size, number of patch + 1, dim) -> (batch size, dim)\n",
        "    x = self.to_cls_token(x[:, 0])\n",
        "\n",
        "    # mlp layer를 통해 output 구함\n",
        "    # (batch size, dim) -> (batch size, class size(10))\n",
        "    return self.mlp_head(x)"
      ],
      "execution_count": null,
      "outputs": []
    },
    {
      "cell_type": "code",
      "metadata": {
        "id": "LOOhi8qobjW8"
      },
      "source": [
        "device = 'cuda' if torch.cuda.is_available() else 'cpu'\n",
        "best_acc = 0\n",
        "start_epoch = 0 "
      ],
      "execution_count": 6,
      "outputs": []
    },
    {
      "cell_type": "code",
      "metadata": {
        "id": "X0MrYvXWcVHW"
      },
      "source": [
        "net = ViT(\n",
        "    image_size = 32,\n",
        "    patch_size = 4,\n",
        "    num_classes = 10,\n",
        "    dim = 512,\n",
        "    depth = 6,\n",
        "    heads = 8,\n",
        "    mlp_dim = 512,\n",
        "    dropout = 0.1,\n",
        "    emb_dropout = 0.1\n",
        ")\n",
        "net = net.to(device)"
      ],
      "execution_count": null,
      "outputs": []
    },
    {
      "cell_type": "markdown",
      "source": [
        "# 하이퍼파라미터, CIFAR10 dataset\n"
      ],
      "metadata": {
        "id": "Sns7ZkPnUKey"
      }
    },
    {
      "cell_type": "code",
      "metadata": {
        "id": "ZJCBs6dibF8E"
      },
      "source": [
        "# hyperparameter\n",
        "\n",
        "lr = 1e-4 \n",
        "bs = 128\n",
        "n_epochs = 50\n",
        "patch = 2\n"
      ],
      "execution_count": 8,
      "outputs": []
    },
    {
      "cell_type": "code",
      "metadata": {
        "id": "Nxm-zpe9b74o"
      },
      "source": [
        "transform_train = transforms.Compose([\n",
        "                                     # 이미지를 첫번째 인자의 사이즈로 자름, padding 크기만큼 의미없는 pixel(값 0) 채움\n",
        "                                     transforms.RandomCrop(32, padding=4),\n",
        "                                      \n",
        "                                     # 이미지를 수평으로 뒤집는다\n",
        "                                     transforms.RandomHorizontalFlip(),\n",
        "                                      \n",
        "                                     # 데이터를 tensor로 변환\n",
        "                                     transforms.ToTensor(),\n",
        "                                      \n",
        "                                     # (mean, std) 괄호안의 수의 개수는 채널의 수\n",
        "                                     transforms.Normalize((0.4914, 0.4822, 0.4465), (0.2023, 0.1994, 0.2010)),\n",
        "])\n",
        "\n",
        "transform_test = transforms.Compose([\n",
        "    transforms.ToTensor(),\n",
        "    transforms.Normalize((0.4914, 0.4822, 0.4465), (0.2023, 0.1994, 0.2010)),\n",
        "])"
      ],
      "execution_count": 9,
      "outputs": []
    },
    {
      "cell_type": "code",
      "metadata": {
        "colab": {
          "base_uri": "https://localhost:8080/",
          "height": 152,
          "referenced_widgets": [
            "b026c20b95c24ee08e4aba1f4b3b4ca4",
            "c8de12d937454934b3caad65570c4fb9",
            "cbbcc1d4b1e8484c9ec8e0b9c243bae4",
            "faca7df3976f412d8166a6086c20dd43",
            "e7ed2205e422477f8e40982fcd3e8b30",
            "0406b8162df4406a9727a075c3cc14a3",
            "4574038111ec4566b07f00d7ce4cda7b",
            "9ec5b5dc77464448a2aa05eaa153a341",
            "99309f985f6c48d0a258f24b6c2797b5",
            "38d12346b88647e0b9b38fc00ddca16b",
            "92e85678abfc41fa99975acbcaac5c90"
          ]
        },
        "id": "YPJ3V1hGcMAT",
        "outputId": "ec2ba20f-8310-470a-a170-a6152e72b97f"
      },
      "source": [
        "# CIFAR-10 dataset dataloader\n",
        "\n",
        "trainset = torchvision.datasets.CIFAR10(root='./data', train=True, download=True, transform=transform_train)\n",
        "trainloader = torch.utils.data.DataLoader(trainset, batch_size=bs, shuffle=True, num_workers=2)\n",
        "\n",
        "testset = torchvision.datasets.CIFAR10(root='./data', train=False, download=True, transform=transform_test)\n",
        "testloader = torch.utils.data.DataLoader(testset, batch_size=100, shuffle=False, num_workers=2)\n",
        "\n",
        "classes = ('plane', 'car', 'bird', 'cat', 'deer', 'dog', 'frog', 'horse', 'ship', 'truck')"
      ],
      "execution_count": 10,
      "outputs": [
        {
          "output_type": "stream",
          "name": "stdout",
          "text": [
            "Downloading https://www.cs.toronto.edu/~kriz/cifar-10-python.tar.gz to ./data/cifar-10-python.tar.gz\n"
          ]
        },
        {
          "output_type": "display_data",
          "data": {
            "text/plain": [
              "  0%|          | 0/170498071 [00:00<?, ?it/s]"
            ],
            "application/vnd.jupyter.widget-view+json": {
              "version_major": 2,
              "version_minor": 0,
              "model_id": "b026c20b95c24ee08e4aba1f4b3b4ca4"
            }
          },
          "metadata": {}
        },
        {
          "output_type": "stream",
          "name": "stdout",
          "text": [
            "Extracting ./data/cifar-10-python.tar.gz to ./data\n",
            "Files already downloaded and verified\n"
          ]
        }
      ]
    },
    {
      "cell_type": "markdown",
      "source": [
        "# optimizer, scheduler"
      ],
      "metadata": {
        "id": "O1fHubD2UToD"
      }
    },
    {
      "cell_type": "code",
      "metadata": {
        "id": "82fmNStSc1m9"
      },
      "source": [
        "criterion = nn.CrossEntropyLoss()\n",
        "optimizer = optim.Adam(net.parameters(), lr=lr)\n",
        "scheduler = optim.lr_scheduler.ReduceLROnPlateau(optimizer, 'min', patience=3, verbose=True, min_lr=1e-3*1e-5, factor=0.1)"
      ],
      "execution_count": null,
      "outputs": []
    },
    {
      "cell_type": "markdown",
      "source": [
        "# train, test 함수"
      ],
      "metadata": {
        "id": "h95EORWdVFXl"
      }
    },
    {
      "cell_type": "code",
      "metadata": {
        "id": "U-7hpwswFWlO"
      },
      "source": [
        "def train(model):\n",
        "  model.train()\n",
        "  train_loss = 0\n",
        "  correct = 0\n",
        "  total = 0\n",
        "\n",
        "  for batch_idx, (inputs, targets) in enumerate(trainloader):\n",
        "    \n",
        "    inputs, targets = inputs.to(device), targets.to(device)\n",
        "    optimizer.zero_grad()\n",
        "    outputs = model(inputs)\n",
        "    loss = criterion(outputs, targets)\n",
        "    loss.backward()\n",
        "    optimizer.step()\n",
        "\n",
        "    train_loss += loss.item()\n",
        "    _, predicted = outputs.max(1)\n",
        "    total += targets.size(0)\n",
        "    correct += predicted.eq(targets).sum().item()\n",
        "\n",
        "  return train_loss/(batch_idx+1)"
      ],
      "execution_count": 11,
      "outputs": []
    },
    {
      "cell_type": "code",
      "metadata": {
        "id": "v2qWNfaNLakI"
      },
      "source": [
        "def test(model):\n",
        "  global best_acc\n",
        "  model.eval() \n",
        "  test_loss = 0 \n",
        "  correct = 0 \n",
        "  total = 0 \n",
        "\n",
        "  with torch.no_grad():\n",
        "    for batch_idx, (inputs, targets) in enumerate(testloader): \n",
        "      inputs, targets = inputs.to(device), targets.to(device)\n",
        "      outputs = model(inputs)\n",
        "      loss = criterion(outputs, targets)\n",
        "      test_loss += loss.item() \n",
        "      _, predicted = outputs.max(1)\n",
        "      total += targets.size(0) \n",
        "      correct += predicted.eq(targets).sum().item()\n",
        "      \n",
        "\n",
        "  scheduler.step(test_loss)\n",
        "  acc = 100. * correct/total\n",
        "\n",
        "  if acc > best_acc: \n",
        "    print(\"Best accuracy: {}\".format(acc))\n",
        "  return test_loss, acc"
      ],
      "execution_count": 12,
      "outputs": []
    },
    {
      "cell_type": "markdown",
      "source": [
        "# 학습진행"
      ],
      "metadata": {
        "id": "LlZoMY3JpXcM"
      }
    },
    {
      "cell_type": "code",
      "metadata": {
        "id": "bes-cdO0jCrO",
        "colab": {
          "base_uri": "https://localhost:8080/"
        },
        "outputId": "e2e16f82-3fb4-4c18-e23a-fee4657fc6ec"
      },
      "source": [
        "\n",
        "n_epochs = 10\n",
        "list_loss = []\n",
        "list_acc = []\n",
        "for epoch in range(n_epochs):\n",
        "  print('\\nEpoch: %d' % epoch)\n",
        "  train(net)\n",
        "  val_loss, val_acc = test(net)\n",
        "\n",
        "  list_loss.append(val_loss)\n",
        "  list_acc.append(val_acc)\n"
      ],
      "execution_count": null,
      "outputs": [
        {
          "output_type": "stream",
          "name": "stdout",
          "text": [
            "\n",
            "Epoch: 0\n",
            "Best accuracy: 44.328\n",
            "\n",
            "Epoch: 1\n",
            "Best accuracy: 49.382\n",
            "\n",
            "Epoch: 2\n",
            "Best accuracy: 52.116\n",
            "\n",
            "Epoch: 3\n",
            "Best accuracy: 54.744\n",
            "\n",
            "Epoch: 4\n",
            "Best accuracy: 56.5\n",
            "\n",
            "Epoch: 5\n",
            "Best accuracy: 58.614\n",
            "\n",
            "Epoch: 6\n",
            "Best accuracy: 59.854\n",
            "\n",
            "Epoch: 7\n",
            "Best accuracy: 61.52\n",
            "\n",
            "Epoch: 8\n",
            "Best accuracy: 62.376\n",
            "\n",
            "Epoch: 9\n",
            "Best accuracy: 64.022\n"
          ]
        }
      ]
    },
    {
      "cell_type": "markdown",
      "source": [
        "#csp_transformer"
      ],
      "metadata": {
        "id": "KjNCZWhQvD7e"
      }
    },
    {
      "cell_type": "code",
      "metadata": {
        "id": "0MTocQ7CK6Zx"
      },
      "source": [
        "# transformer encoder\n",
        "class CSP_Transformer(nn.Module):\n",
        "  def __init__(self, dim, depth, heads, mlp_dim, dropout):\n",
        "    super().__init__()\n",
        "    self.layers = nn.ModuleList([])\n",
        "    \n",
        "    self.CSPS1 = Residual(PreNorm(dim, Attention(dim, heads=heads, dropout=dropout)))\n",
        "    self.CSPS2 = Residual(PreNorm(dim, Attention(dim, heads=heads, dropout=dropout)))\n",
        "    self.FFN1 = Residual(PreNorm(dim, FeedForward(dim, mlp_dim, dropout=dropout)))\n",
        "    self.FFN2 = Residual(PreNorm(dim, FeedForward(dim, mlp_dim, dropout=dropout)))\n",
        "\n",
        "    self.CSPS3 = Residual(PreNorm(dim, Attention(dim, heads=heads, dropout=dropout)))\n",
        "    self.CSPS4 = Residual(PreNorm(dim, Attention(dim, heads=heads, dropout=dropout)))\n",
        "    self.FFN3 = Residual(PreNorm(dim, FeedForward(dim, mlp_dim, dropout=dropout)))\n",
        "    self.FFN4 = Residual(PreNorm(dim, FeedForward(dim, mlp_dim, dropout=dropout)))\n",
        "\n",
        "    # depth만큼 transformer block 쌓음\n",
        "    for _ in range(depth - 4):\n",
        "      self.layers.append(nn.ModuleList([\n",
        "                                        Residual(PreNorm(dim, Attention(dim, heads=heads, dropout=dropout))), \n",
        "                                        Residual(PreNorm(dim, FeedForward(dim, mlp_dim, dropout=dropout)))\n",
        "      ]))\n",
        "\n",
        "  def forward(self, x):\n",
        "    x1, x2 = x.chunk(2, dim = 1)\n",
        "    x2 = self.CSPS1(x2)\n",
        "    x = torch.cat([x1, x2], dim=1)\n",
        "    x = self.FFN1(x)\n",
        "\n",
        "    x1, x2 = x.chunk(2, dim = 1)\n",
        "    x1 = self.CSPS2(x1)\n",
        "    x = torch.cat([x1, x2], dim=1)\n",
        "    x = self.FFN2(x)\n",
        "    \n",
        "    x1, x2 = x.chunk(2, dim = 1)\n",
        "    x2 = self.CSPS3(x2)\n",
        "    x = torch.cat([x1, x2], dim=1)\n",
        "    x = self.FFN3(x)\n",
        "\n",
        "    x1, x2 = x.chunk(2, dim = 1)\n",
        "    x1 = self.CSPS4(x1)\n",
        "    x = torch.cat([x1, x2], dim=1)\n",
        "    x = self.FFN4(x)\n",
        "\n",
        "    for attn, ff in self.layers:\n",
        "      x = attn(x) # LayerNorm->Attention->Residual connection\n",
        "      x = ff(x)   # LayerNorm->MLP Layer->Residual connection\n",
        "    return x"
      ],
      "execution_count": null,
      "outputs": []
    },
    {
      "cell_type": "code",
      "source": [
        "MIN_NUM_PATCHES = 16\n",
        "class CSP_ViT(nn.Module): \n",
        "  def __init__(self, *, image_size, patch_size, num_classes, dim, depth, heads, mlp_dim, channels=3, dropout=0., emb_dropout=0.):\n",
        "    super().__init__()\n",
        "    assert image_size % patch_size == 0, \"image size must be divisible for the patch size\"\n",
        "    num_patches = (image_size // patch_size) ** 2\n",
        "    patch_dim = channels * patch_size**2 \n",
        "    assert num_patches >= MIN_NUM_PATCHES,  f'your number of patches ({num_patches}) is way too small for attention to be effective. try decreasing your patch size'\n",
        "\n",
        "    self.patch_size = patch_size \n",
        "\n",
        "    self.pos_embedding = nn.Parameter(torch.randn(1, num_patches+1, dim))\n",
        "    self.patch_to_embedding = nn.Linear(patch_dim, dim, bias=False)\n",
        "    self.cls_token = nn.Parameter(torch.randn(1, 1, dim))\n",
        "    self.dropout = nn.Dropout(emb_dropout)\n",
        "\n",
        "    self.transformer = CSP_Transformer(dim, depth, heads, mlp_dim, dropout)\n",
        "\n",
        "    self.to_cls_token = nn.Identity()\n",
        "\n",
        "    self.mlp_head = nn.Sequential(\n",
        "        nn.LayerNorm(dim), \n",
        "        nn.Linear(dim, mlp_dim), \n",
        "        nn.GELU(), \n",
        "        nn.Dropout(dropout), \n",
        "        nn.Linear(mlp_dim, num_classes)\n",
        "    )\n",
        "\n",
        "  def forward(self, img):\n",
        "    # img shape = (batch size, channel, height, width)\n",
        "\n",
        "    p = self.patch_size\n",
        "    \n",
        "    # 이미지를 패치로 자름, 각 패치를 flatten(1-Dimension) 하게 만듬\n",
        "    # (batch size, channel, height, width) -> (batch size, number of patch, patch_dim)\n",
        "    x = rearrange(img, \"b c (h p1) (w p2) -> b (h w) (p1 p2 c)\", p1=p, p2=p)\n",
        "    \n",
        "    # patch embedding\n",
        "    # (batch size, number of patch, patch_dim) -> (batch size, number of patch, dim)\n",
        "    x = self.patch_to_embedding(x)\n",
        "    b, n, _ = x.shape\n",
        "\n",
        "    # class token embedding vector를 batch size만큼 확장\n",
        "    # (batch size, 1, dim)\n",
        "    cls_tokens = self.cls_token.expand(b, -1, -1)\n",
        "\n",
        "    # x 맨 앞에 cls_tokens 붙힘\n",
        "    # (batch size, number of patch, dim) -> (batch size, number of patch + 1, dim)\n",
        "    x = torch.cat((cls_tokens, x), dim=1)\n",
        "\n",
        "    # x에 pos_embedding 더해줌\n",
        "    # shape 같음\n",
        "    x += self.pos_embedding[:, :(n+1)]\n",
        "    x = self.dropout(x)\n",
        "\n",
        "    # trnasformer encoder layer\n",
        "    # (batch size, number of patch + 1, dim) -> (batch size, number of patch + 1, dim)\n",
        "    x = self.transformer(x)\n",
        "\n",
        "    # x 맨앞의 head(class token embedding vector) 추출\n",
        "    # (batch size, number of patch + 1, dim) -> (batch size, dim)\n",
        "    x = self.to_cls_token(x[:, 0])\n",
        "\n",
        "    # mlp layer를 통해 output 구함\n",
        "    # (batch size, dim) -> (batch size, class size(10))\n",
        "    return self.mlp_head(x)"
      ],
      "metadata": {
        "id": "dVBT1W5VvLon"
      },
      "execution_count": null,
      "outputs": []
    },
    {
      "cell_type": "markdown",
      "source": [
        "#csp train and test"
      ],
      "metadata": {
        "id": "Zb2o731L3nfS"
      }
    },
    {
      "cell_type": "code",
      "source": [
        "csp_vit_net = CSP_ViT(\n",
        "    image_size = 32,\n",
        "    patch_size = 4,\n",
        "    num_classes = 10,\n",
        "    dim = 512,\n",
        "    depth = 6,\n",
        "    heads = 8,\n",
        "    mlp_dim = 512,\n",
        "    dropout = 0.1,\n",
        "    emb_dropout = 0.1\n",
        ")\n",
        "csp_vit_net = csp_vit_net.to(device)"
      ],
      "metadata": {
        "id": "F5YDPcNf4PY4"
      },
      "execution_count": null,
      "outputs": []
    },
    {
      "cell_type": "code",
      "source": [
        "criterion = nn.CrossEntropyLoss()\n",
        "optimizer = optim.Adam(csp_vit_net.parameters(), lr=lr)\n",
        "scheduler = optim.lr_scheduler.ReduceLROnPlateau(optimizer, 'min', patience=3, verbose=True, min_lr=1e-3*1e-5, factor=0.1)"
      ],
      "metadata": {
        "id": "gYIyH7Hi3yKh"
      },
      "execution_count": null,
      "outputs": []
    },
    {
      "cell_type": "code",
      "source": [
        "\n",
        "n_epochs = 10\n",
        "list_loss_csps_vit = []\n",
        "list_acc_csps_vit = []\n",
        "for epoch in range(n_epochs):\n",
        "  print('\\nEpoch: %d' % epoch)\n",
        "  train(csp_vit_net)\n",
        "  val_loss, val_acc = test(csp_vit_net)\n",
        "\n",
        "  list_loss_csps_vit.append(val_loss)\n",
        "  list_acc_csps_vit.append(val_acc)\n"
      ],
      "metadata": {
        "colab": {
          "base_uri": "https://localhost:8080/"
        },
        "id": "tU0I20b338BS",
        "outputId": "6ae97bd6-c9f2-43f8-fab1-0a07025cdc03"
      },
      "execution_count": null,
      "outputs": [
        {
          "output_type": "stream",
          "name": "stdout",
          "text": [
            "\n",
            "Epoch: 0\n",
            "Best accuracy: 43.492\n",
            "\n",
            "Epoch: 1\n",
            "Best accuracy: 48.66\n",
            "\n",
            "Epoch: 2\n",
            "Best accuracy: 51.022\n",
            "\n",
            "Epoch: 3\n",
            "Best accuracy: 53.166\n",
            "\n",
            "Epoch: 4\n",
            "Best accuracy: 55.714\n",
            "\n",
            "Epoch: 5\n",
            "Best accuracy: 57.134\n",
            "\n",
            "Epoch: 6\n",
            "Best accuracy: 58.024\n",
            "\n",
            "Epoch: 7\n",
            "Best accuracy: 58.62\n",
            "\n",
            "Epoch: 8\n",
            "Best accuracy: 60.876\n",
            "\n",
            "Epoch: 9\n",
            "Best accuracy: 62.542\n"
          ]
        }
      ]
    },
    {
      "cell_type": "code",
      "source": [
        "start = time.time()\n",
        "end = time.time()\n",
        "\n",
        "print(f\"{end - start:.5f} sec\")"
      ],
      "metadata": {
        "colab": {
          "base_uri": "https://localhost:8080/"
        },
        "id": "r1ocuvt3_fBt",
        "outputId": "cb102a8a-7201-4e69-e787-91d2808e410e"
      },
      "execution_count": null,
      "outputs": [
        {
          "output_type": "stream",
          "name": "stdout",
          "text": [
            "0.00004 sec\n"
          ]
        }
      ]
    },
    {
      "cell_type": "code",
      "source": [
        "def prev_test(epoch):\n",
        "  tmp = 0.0\n",
        "  global best_acc\n",
        "  net.eval() \n",
        "  test_loss = 0 \n",
        "  correct = 0 \n",
        "  total = 0 \n",
        "\n",
        "  with torch.no_grad():\n",
        "    for batch_idx, (inputs, targets) in enumerate(testloader): \n",
        "      inputs, targets = inputs.to(device), targets.to(device)\n",
        "      start = time.time()\n",
        "      outputs = net(inputs)\n",
        "      end = time.time()\n",
        "      tmp += end - start\n",
        "      loss = criterion(outputs, targets)\n",
        "      test_loss += loss.item() \n",
        "      _, predicted = outputs.max(1)\n",
        "      total += targets.size(0) \n",
        "      correct += predicted.eq(targets).sum().item()\n",
        "      \n",
        "\n",
        "  scheduler.step(test_loss)\n",
        "  acc = 100. * correct/total\n",
        "\n",
        "  if acc > best_acc: \n",
        "    print(\"Best accuracy: {}\".format(acc))\n",
        "  return tmp/10000, test_loss, acc"
      ],
      "metadata": {
        "id": "j2yTZdr688Om"
      },
      "execution_count": null,
      "outputs": []
    },
    {
      "cell_type": "code",
      "source": [
        "start = time.time()\n",
        "prev_test(0)\n",
        "end = time.time()\n",
        "print(f\"{end - start:.6f} sec\")"
      ],
      "metadata": {
        "colab": {
          "base_uri": "https://localhost:8080/"
        },
        "id": "EQIPY18lChW7",
        "outputId": "955d476f-eade-4958-954e-91a56886e87f"
      },
      "execution_count": null,
      "outputs": [
        {
          "output_type": "stream",
          "name": "stdout",
          "text": [
            "Best accuracy: 63.17\n",
            "5.518388 sec\n"
          ]
        }
      ]
    },
    {
      "cell_type": "code",
      "source": [
        "sum = 0.0\n",
        "for _ in range(10):\n",
        "  tmp, _, _ = prev_test(0)\n",
        "  sum += tmp\n",
        "sum /= 10\n",
        "print(f\"{sum:.6f} sec\")"
      ],
      "metadata": {
        "colab": {
          "base_uri": "https://localhost:8080/"
        },
        "id": "sxa4z7i18_Oe",
        "outputId": "6149e2d1-9121-4891-abed-b62b27b7ff30"
      },
      "execution_count": null,
      "outputs": [
        {
          "output_type": "stream",
          "name": "stdout",
          "text": [
            "Best accuracy: 63.17\n",
            "Best accuracy: 63.17\n",
            "Best accuracy: 63.17\n",
            "Best accuracy: 63.17\n",
            "Best accuracy: 63.17\n",
            "Best accuracy: 63.17\n",
            "Best accuracy: 63.17\n",
            "Best accuracy: 63.17\n",
            "Best accuracy: 63.17\n",
            "Best accuracy: 63.17\n",
            "0.00022 sec\n"
          ]
        }
      ]
    },
    {
      "cell_type": "code",
      "source": [
        "import time\n",
        "def csps_test(epoch):\n",
        "  tmp = 0.0\n",
        "  global best_acc\n",
        "  csp_net.eval() \n",
        "  test_loss = 0 \n",
        "  correct = 0 \n",
        "  total = 0 \n",
        "\n",
        "  with torch.no_grad():\n",
        "    for batch_idx, (inputs, targets) in enumerate(testloader): \n",
        "      inputs, targets = inputs.to(device), targets.to(device)\n",
        "      start = time.time()\n",
        "      outputs = csp_net(inputs)\n",
        "      end = time.time()\n",
        "      tmp += end - start\n",
        "      loss = criterion(outputs, targets)\n",
        "      test_loss += loss.item() \n",
        "      _, predicted = outputs.max(1)\n",
        "      total += targets.size(0) \n",
        "      correct += predicted.eq(targets).sum().item()\n",
        "      \n",
        "\n",
        "  scheduler.step(test_loss)\n",
        "  acc = 100. * correct/total\n",
        "\n",
        "  if acc > best_acc: \n",
        "    print(\"Best accuracy: {}\".format(acc))\n",
        "  return tmp/10000, test_loss, acc"
      ],
      "metadata": {
        "id": "EPQChSkK9ID4"
      },
      "execution_count": null,
      "outputs": []
    },
    {
      "cell_type": "code",
      "source": [
        "start = time.time()\n",
        "csps_test(0)\n",
        "end = time.time()\n",
        "print(f\"{end - start:.6f} sec\")"
      ],
      "metadata": {
        "colab": {
          "base_uri": "https://localhost:8080/"
        },
        "id": "LVyUnzWBCpcZ",
        "outputId": "0f62cf5f-cdac-450d-c5ee-14073329896c"
      },
      "execution_count": null,
      "outputs": [
        {
          "output_type": "stream",
          "name": "stdout",
          "text": [
            "Best accuracy: 60.48\n",
            "4.855452 sec\n"
          ]
        }
      ]
    },
    {
      "cell_type": "code",
      "source": [
        "sum = 0.0\n",
        "for _ in range(10):\n",
        "  tmp, _, _ = csps_test(0)\n",
        "  sum += tmp\n",
        "sum /= 10\n",
        "print(f\"{sum:.6f} sec\")"
      ],
      "metadata": {
        "colab": {
          "base_uri": "https://localhost:8080/"
        },
        "id": "iXEIHu5x9L2-",
        "outputId": "b861dcf6-2310-4c8c-d4e1-0fd0529b5813"
      },
      "execution_count": null,
      "outputs": [
        {
          "output_type": "stream",
          "name": "stdout",
          "text": [
            "Best accuracy: 60.48\n",
            "Best accuracy: 60.48\n",
            "Best accuracy: 60.48\n",
            "Best accuracy: 60.48\n",
            "Best accuracy: 60.48\n",
            "Best accuracy: 60.48\n",
            "Best accuracy: 60.48\n",
            "Best accuracy: 60.48\n",
            "Best accuracy: 60.48\n",
            "Best accuracy: 60.48\n",
            "0.00010 sec\n"
          ]
        }
      ]
    },
    {
      "cell_type": "markdown",
      "source": [
        "#Lite_VIT - attention layer 한개 뺀 model"
      ],
      "metadata": {
        "id": "y5TZnTpTI4YZ"
      }
    },
    {
      "cell_type": "code",
      "metadata": {
        "id": "knOnHy76I6iB"
      },
      "source": [
        "# transformer encoder\n",
        "class Lite_Transformer(nn.Module):\n",
        "  def __init__(self, dim, depth, heads, mlp_dim, dropout):\n",
        "    super().__init__()\n",
        "    self.layers = nn.ModuleList([])\n",
        "    \n",
        "    self.FFN = Residual(PreNorm(dim, FeedForward(dim, mlp_dim, dropout=dropout)))\n",
        "    self.FFN2 = Residual(PreNorm(dim, FeedForward(dim, mlp_dim, dropout=dropout)))\n",
        "\n",
        "    # depth만큼 transformer block 쌓음\n",
        "    for _ in range(depth - 1):\n",
        "      self.layers.append(nn.ModuleList([\n",
        "                                        Residual(PreNorm(dim, Attention(dim, heads=heads, dropout=dropout))), \n",
        "                                        Residual(PreNorm(dim, FeedForward(dim, mlp_dim, dropout=dropout)))\n",
        "      ]))\n",
        "\n",
        "  def forward(self, x):\n",
        "    x = self.FFN(x)\n",
        "\n",
        "    for attn, ff in self.layers:\n",
        "      x = attn(x) # LayerNorm->Attention->Residual connection\n",
        "      x = ff(x)   # LayerNorm->MLP Layer->Residual connection\n",
        "    return x"
      ],
      "execution_count": 13,
      "outputs": []
    },
    {
      "cell_type": "code",
      "source": [
        "MIN_NUM_PATCHES = 16\n",
        "class Lite_ViT(nn.Module): \n",
        "  def __init__(self, *, image_size, patch_size, num_classes, dim, depth, heads, mlp_dim, channels=3, dropout=0., emb_dropout=0.):\n",
        "    super().__init__()\n",
        "    assert image_size % patch_size == 0, \"image size must be divisible for the patch size\"\n",
        "    num_patches = (image_size // patch_size) ** 2\n",
        "    patch_dim = channels * patch_size**2 \n",
        "    assert num_patches >= MIN_NUM_PATCHES,  f'your number of patches ({num_patches}) is way too small for attention to be effective. try decreasing your patch size'\n",
        "\n",
        "    self.patch_size = patch_size \n",
        "\n",
        "    self.pos_embedding = nn.Parameter(torch.randn(1, num_patches+1, dim))\n",
        "    self.patch_to_embedding = nn.Linear(patch_dim, dim, bias=False)\n",
        "    self.cls_token = nn.Parameter(torch.randn(1, 1, dim))\n",
        "    self.dropout = nn.Dropout(emb_dropout)\n",
        "\n",
        "    self.transformer = Lite_Transformer(dim, depth, heads, mlp_dim, dropout)\n",
        "\n",
        "    self.to_cls_token = nn.Identity()\n",
        "\n",
        "    self.mlp_head = nn.Sequential(\n",
        "        nn.LayerNorm(dim), \n",
        "        nn.Linear(dim, mlp_dim), \n",
        "        nn.GELU(), \n",
        "        nn.Dropout(dropout), \n",
        "        nn.Linear(mlp_dim, num_classes)\n",
        "    )\n",
        "\n",
        "  def forward(self, img):\n",
        "    # img shape = (batch size, channel, height, width)\n",
        "\n",
        "    p = self.patch_size\n",
        "    \n",
        "    # 이미지를 패치로 자름, 각 패치를 flatten(1-Dimension) 하게 만듬\n",
        "    # (batch size, channel, height, width) -> (batch size, number of patch, patch_dim)\n",
        "    x = rearrange(img, \"b c (h p1) (w p2) -> b (h w) (p1 p2 c)\", p1=p, p2=p)\n",
        "    \n",
        "    # patch embedding\n",
        "    # (batch size, number of patch, patch_dim) -> (batch size, number of patch, dim)\n",
        "    x = self.patch_to_embedding(x)\n",
        "    b, n, _ = x.shape\n",
        "\n",
        "    # class token embedding vector를 batch size만큼 확장\n",
        "    # (batch size, 1, dim)\n",
        "    cls_tokens = self.cls_token.expand(b, -1, -1)\n",
        "\n",
        "    # x 맨 앞에 cls_tokens 붙힘\n",
        "    # (batch size, number of patch, dim) -> (batch size, number of patch + 1, dim)\n",
        "    x = torch.cat((cls_tokens, x), dim=1)\n",
        "\n",
        "    # x에 pos_embedding 더해줌\n",
        "    # shape 같음\n",
        "    x += self.pos_embedding[:, :(n+1)]\n",
        "    x = self.dropout(x)\n",
        "\n",
        "    # trnasformer encoder layer\n",
        "    # (batch size, number of patch + 1, dim) -> (batch size, number of patch + 1, dim)\n",
        "    x = self.transformer(x)\n",
        "\n",
        "    # x 맨앞의 head(class token embedding vector) 추출\n",
        "    # (batch size, number of patch + 1, dim) -> (batch size, dim)\n",
        "    x = self.to_cls_token(x[:, 0])\n",
        "\n",
        "    # mlp layer를 통해 output 구함\n",
        "    # (batch size, dim) -> (batch size, class size(10))\n",
        "    return self.mlp_head(x)"
      ],
      "metadata": {
        "id": "WIXnxaRBJNFw"
      },
      "execution_count": 17,
      "outputs": []
    },
    {
      "cell_type": "code",
      "source": [
        "lite_vit_net = Lite_ViT(\n",
        "    image_size = 32,\n",
        "    patch_size = 4,\n",
        "    num_classes = 10,\n",
        "    dim = 512,\n",
        "    depth = 6,\n",
        "    heads = 8,\n",
        "    mlp_dim = 512,\n",
        "    dropout = 0.1,\n",
        "    emb_dropout = 0.1\n",
        ")\n",
        "lite_vit_net = lite_vit_net.to(device)"
      ],
      "metadata": {
        "id": "lKLXzrFJJaAx"
      },
      "execution_count": 18,
      "outputs": []
    },
    {
      "cell_type": "code",
      "source": [
        "criterion = nn.CrossEntropyLoss()\n",
        "optimizer = optim.Adam(lite_vit_net.parameters(), lr=lr)\n",
        "scheduler = optim.lr_scheduler.ReduceLROnPlateau(optimizer, 'min', patience=3, verbose=True, min_lr=1e-3*1e-5, factor=0.1)"
      ],
      "metadata": {
        "id": "kffO5NLuJqYw"
      },
      "execution_count": 19,
      "outputs": []
    },
    {
      "cell_type": "code",
      "source": [
        "\n",
        "n_epochs = 50\n",
        "list_loss_lite_vit = []\n",
        "list_acc_lite_vit = []\n",
        "for epoch in range(n_epochs):\n",
        "  print('\\nEpoch: %d' % epoch)\n",
        "  train(lite_vit_net)\n",
        "  val_loss, val_acc = test(lite_vit_net)\n",
        "\n",
        "  list_loss_lite_vit.append(val_loss)\n",
        "  list_acc_lite_vit.append(val_acc)\n"
      ],
      "metadata": {
        "colab": {
          "base_uri": "https://localhost:8080/"
        },
        "outputId": "27e2ea11-19bc-49e8-ed46-4a4115934075",
        "id": "rYTIeOtvJ1gw"
      },
      "execution_count": 22,
      "outputs": [
        {
          "output_type": "stream",
          "name": "stdout",
          "text": [
            "\n",
            "Epoch: 0\n",
            "Best accuracy: 54.0\n",
            "\n",
            "Epoch: 1\n",
            "Best accuracy: 56.0\n",
            "\n",
            "Epoch: 2\n",
            "Best accuracy: 57.67\n",
            "\n",
            "Epoch: 3\n",
            "Best accuracy: 59.82\n",
            "\n",
            "Epoch: 4\n",
            "Best accuracy: 59.69\n",
            "\n",
            "Epoch: 5\n",
            "Best accuracy: 62.13\n",
            "\n",
            "Epoch: 6\n",
            "Best accuracy: 62.63\n",
            "\n",
            "Epoch: 7\n",
            "Best accuracy: 63.9\n",
            "\n",
            "Epoch: 8\n",
            "Best accuracy: 64.68\n",
            "\n",
            "Epoch: 9\n",
            "Best accuracy: 64.9\n",
            "\n",
            "Epoch: 10\n",
            "Best accuracy: 65.28\n",
            "\n",
            "Epoch: 11\n",
            "Best accuracy: 66.15\n",
            "\n",
            "Epoch: 12\n",
            "Best accuracy: 67.52\n",
            "\n",
            "Epoch: 13\n",
            "Best accuracy: 67.26\n",
            "\n",
            "Epoch: 14\n",
            "Best accuracy: 67.56\n",
            "\n",
            "Epoch: 15\n",
            "Best accuracy: 69.16\n",
            "\n",
            "Epoch: 16\n",
            "Best accuracy: 69.49\n",
            "\n",
            "Epoch: 17\n",
            "Best accuracy: 69.26\n",
            "\n",
            "Epoch: 18\n",
            "Best accuracy: 70.33\n",
            "\n",
            "Epoch: 19\n",
            "Best accuracy: 70.88\n",
            "\n",
            "Epoch: 20\n",
            "Best accuracy: 71.05\n",
            "\n",
            "Epoch: 21\n",
            "Best accuracy: 71.98\n",
            "\n",
            "Epoch: 22\n",
            "Best accuracy: 70.88\n",
            "\n",
            "Epoch: 23\n",
            "Best accuracy: 71.88\n",
            "\n",
            "Epoch: 24\n",
            "Best accuracy: 72.88\n",
            "\n",
            "Epoch: 25\n",
            "Best accuracy: 73.57\n",
            "\n",
            "Epoch: 26\n",
            "Best accuracy: 73.77\n",
            "\n",
            "Epoch: 27\n",
            "Best accuracy: 74.37\n",
            "\n",
            "Epoch: 28\n",
            "Best accuracy: 73.45\n",
            "\n",
            "Epoch: 29\n",
            "Best accuracy: 73.71\n",
            "\n",
            "Epoch: 30\n",
            "Best accuracy: 74.82\n",
            "\n",
            "Epoch: 31\n",
            "Best accuracy: 75.2\n",
            "\n",
            "Epoch: 32\n",
            "Best accuracy: 74.87\n",
            "\n",
            "Epoch: 33\n",
            "Best accuracy: 75.81\n",
            "\n",
            "Epoch: 34\n",
            "Best accuracy: 75.65\n",
            "\n",
            "Epoch: 35\n",
            "Best accuracy: 75.63\n",
            "\n",
            "Epoch: 36\n",
            "Best accuracy: 76.31\n",
            "\n",
            "Epoch: 37\n",
            "Best accuracy: 76.17\n",
            "\n",
            "Epoch: 38\n",
            "Best accuracy: 76.67\n",
            "\n",
            "Epoch: 39\n",
            "Best accuracy: 77.18\n",
            "\n",
            "Epoch: 40\n",
            "Best accuracy: 76.93\n",
            "\n",
            "Epoch: 41\n",
            "Best accuracy: 77.77\n",
            "\n",
            "Epoch: 42\n",
            "Best accuracy: 77.45\n",
            "\n",
            "Epoch: 43\n",
            "Best accuracy: 78.34\n",
            "\n",
            "Epoch: 44\n",
            "Best accuracy: 77.51\n",
            "\n",
            "Epoch: 45\n",
            "Best accuracy: 77.48\n",
            "\n",
            "Epoch: 46\n",
            "Best accuracy: 78.42\n",
            "\n",
            "Epoch: 47\n",
            "Best accuracy: 78.2\n",
            "\n",
            "Epoch: 48\n",
            "Best accuracy: 78.15\n",
            "\n",
            "Epoch: 49\n",
            "Best accuracy: 79.12\n"
          ]
        }
      ]
    },
    {
      "cell_type": "markdown",
      "source": [
        "#accuracy & loss graph"
      ],
      "metadata": {
        "id": "rFmuu2M9Hsap"
      }
    },
    {
      "cell_type": "code",
      "source": [
        "%matplotlib inline \n",
        "plt.plot(list_acc, label = \"nodel_vit_acc\", color = 'blue')\n",
        "plt.plot(list_acc_csps_vit, label = \"csps_vit_acc\", color = 'skyblue', linestyle = \"--\")\n",
        "plt.plot(list_acc_lite_vit, label = \"lite_vit_acc\", color = 'midnightblue', linestyle = \"-.\")\n",
        "plt.legend(loc = 0)\n",
        "plt.show()\n",
        "plt.plot(list_loss, label = \"nodel_vit_loss\", color = 'red')\n",
        "plt.plot(list_loss_csps_vit, label = \"csps_vit_loss\", color = 'tomato', linestyle = \"--\")\n",
        "plt.plot(list_loss_lite_vit, label = \"lite_vit_loss\", color = 'darkred', linestyle = \"-.\")\n",
        "plt.legend(loc = 0)\n",
        "plt.show()"
      ],
      "metadata": {
        "colab": {
          "base_uri": "https://localhost:8080/",
          "height": 517
        },
        "outputId": "c9bf8da4-6367-4af0-95bc-08bc34e58754",
        "id": "nGsq3nv1KPFZ"
      },
      "execution_count": null,
      "outputs": [
        {
          "output_type": "display_data",
          "data": {
            "text/plain": [
              "<Figure size 432x288 with 1 Axes>"
            ],
            "image/png": "[encoded data removed]"
          },
          "metadata": {
            "needs_background": "light"
          }
        },
        {
          "output_type": "display_data",
          "data": {
            "text/plain": [
              "<Figure size 432x288 with 1 Axes>"
            ],
            "image/png": "[encoded data removed]"
          },
          "metadata": {
            "needs_background": "light"
          }
        }
      ]
    },
    {
      "cell_type": "markdown",
      "source": [
        "#model 연산량 비교"
      ],
      "metadata": {
        "id": "bO4Hk7v5INd3"
      }
    },
    {
      "cell_type": "code",
      "source": [
        "summary(net, (3,32,32))"
      ],
      "metadata": {
        "colab": {
          "base_uri": "https://localhost:8080/"
        },
        "id": "AZeqh2vWuaYA",
        "outputId": "5486eb31-951c-452d-c903-3eb990808da8"
      },
      "execution_count": null,
      "outputs": [
        {
          "output_type": "stream",
          "name": "stdout",
          "text": [
            "----------------------------------------------------------------\n",
            "        Layer (type)               Output Shape         Param #\n",
            "================================================================\n",
            "            Linear-1              [-1, 64, 512]          24,576\n",
            "           Dropout-2              [-1, 65, 512]               0\n",
            "         LayerNorm-3              [-1, 65, 512]           1,024\n",
            "            Linear-4             [-1, 65, 1536]         786,432\n",
            "            Linear-5              [-1, 65, 512]         262,656\n",
            "           Dropout-6              [-1, 65, 512]               0\n",
            "         Attention-7              [-1, 65, 512]               0\n",
            "           PreNorm-8              [-1, 65, 512]               0\n",
            "          Residual-9              [-1, 65, 512]               0\n",
            "        LayerNorm-10              [-1, 65, 512]           1,024\n",
            "           Linear-11              [-1, 65, 512]         262,656\n",
            "             GELU-12              [-1, 65, 512]               0\n",
            "          Dropout-13              [-1, 65, 512]               0\n",
            "           Linear-14              [-1, 65, 512]         262,656\n",
            "          Dropout-15              [-1, 65, 512]               0\n",
            "      FeedForward-16              [-1, 65, 512]               0\n",
            "          PreNorm-17              [-1, 65, 512]               0\n",
            "         Residual-18              [-1, 65, 512]               0\n",
            "        LayerNorm-19              [-1, 65, 512]           1,024\n",
            "           Linear-20             [-1, 65, 1536]         786,432\n",
            "           Linear-21              [-1, 65, 512]         262,656\n",
            "          Dropout-22              [-1, 65, 512]               0\n",
            "        Attention-23              [-1, 65, 512]               0\n",
            "          PreNorm-24              [-1, 65, 512]               0\n",
            "         Residual-25              [-1, 65, 512]               0\n",
            "        LayerNorm-26              [-1, 65, 512]           1,024\n",
            "           Linear-27              [-1, 65, 512]         262,656\n",
            "             GELU-28              [-1, 65, 512]               0\n",
            "          Dropout-29              [-1, 65, 512]               0\n",
            "           Linear-30              [-1, 65, 512]         262,656\n",
            "          Dropout-31              [-1, 65, 512]               0\n",
            "      FeedForward-32              [-1, 65, 512]               0\n",
            "          PreNorm-33              [-1, 65, 512]               0\n",
            "         Residual-34              [-1, 65, 512]               0\n",
            "        LayerNorm-35              [-1, 65, 512]           1,024\n",
            "           Linear-36             [-1, 65, 1536]         786,432\n",
            "           Linear-37              [-1, 65, 512]         262,656\n",
            "          Dropout-38              [-1, 65, 512]               0\n",
            "        Attention-39              [-1, 65, 512]               0\n",
            "          PreNorm-40              [-1, 65, 512]               0\n",
            "         Residual-41              [-1, 65, 512]               0\n",
            "        LayerNorm-42              [-1, 65, 512]           1,024\n",
            "           Linear-43              [-1, 65, 512]         262,656\n",
            "             GELU-44              [-1, 65, 512]               0\n",
            "          Dropout-45              [-1, 65, 512]               0\n",
            "           Linear-46              [-1, 65, 512]         262,656\n",
            "          Dropout-47              [-1, 65, 512]               0\n",
            "      FeedForward-48              [-1, 65, 512]               0\n",
            "          PreNorm-49              [-1, 65, 512]               0\n",
            "         Residual-50              [-1, 65, 512]               0\n",
            "        LayerNorm-51              [-1, 65, 512]           1,024\n",
            "           Linear-52             [-1, 65, 1536]         786,432\n",
            "           Linear-53              [-1, 65, 512]         262,656\n",
            "          Dropout-54              [-1, 65, 512]               0\n",
            "        Attention-55              [-1, 65, 512]               0\n",
            "          PreNorm-56              [-1, 65, 512]               0\n",
            "         Residual-57              [-1, 65, 512]               0\n",
            "        LayerNorm-58              [-1, 65, 512]           1,024\n",
            "           Linear-59              [-1, 65, 512]         262,656\n",
            "             GELU-60              [-1, 65, 512]               0\n",
            "          Dropout-61              [-1, 65, 512]               0\n",
            "           Linear-62              [-1, 65, 512]         262,656\n",
            "          Dropout-63              [-1, 65, 512]               0\n",
            "      FeedForward-64              [-1, 65, 512]               0\n",
            "          PreNorm-65              [-1, 65, 512]               0\n",
            "         Residual-66              [-1, 65, 512]               0\n",
            "        LayerNorm-67              [-1, 65, 512]           1,024\n",
            "           Linear-68             [-1, 65, 1536]         786,432\n",
            "           Linear-69              [-1, 65, 512]         262,656\n",
            "          Dropout-70              [-1, 65, 512]               0\n",
            "        Attention-71              [-1, 65, 512]               0\n",
            "          PreNorm-72              [-1, 65, 512]               0\n",
            "         Residual-73              [-1, 65, 512]               0\n",
            "        LayerNorm-74              [-1, 65, 512]           1,024\n",
            "           Linear-75              [-1, 65, 512]         262,656\n",
            "             GELU-76              [-1, 65, 512]               0\n",
            "          Dropout-77              [-1, 65, 512]               0\n",
            "           Linear-78              [-1, 65, 512]         262,656\n",
            "          Dropout-79              [-1, 65, 512]               0\n",
            "      FeedForward-80              [-1, 65, 512]               0\n",
            "          PreNorm-81              [-1, 65, 512]               0\n",
            "         Residual-82              [-1, 65, 512]               0\n",
            "        LayerNorm-83              [-1, 65, 512]           1,024\n",
            "           Linear-84             [-1, 65, 1536]         786,432\n",
            "           Linear-85              [-1, 65, 512]         262,656\n",
            "          Dropout-86              [-1, 65, 512]               0\n",
            "        Attention-87              [-1, 65, 512]               0\n",
            "          PreNorm-88              [-1, 65, 512]               0\n",
            "         Residual-89              [-1, 65, 512]               0\n",
            "        LayerNorm-90              [-1, 65, 512]           1,024\n",
            "           Linear-91              [-1, 65, 512]         262,656\n",
            "             GELU-92              [-1, 65, 512]               0\n",
            "          Dropout-93              [-1, 65, 512]               0\n",
            "           Linear-94              [-1, 65, 512]         262,656\n",
            "          Dropout-95              [-1, 65, 512]               0\n",
            "      FeedForward-96              [-1, 65, 512]               0\n",
            "          PreNorm-97              [-1, 65, 512]               0\n",
            "         Residual-98              [-1, 65, 512]               0\n",
            "      Transformer-99              [-1, 65, 512]               0\n",
            "        Identity-100                  [-1, 512]               0\n",
            "       LayerNorm-101                  [-1, 512]           1,024\n",
            "          Linear-102                  [-1, 512]         262,656\n",
            "            GELU-103                  [-1, 512]               0\n",
            "         Dropout-104                  [-1, 512]               0\n",
            "          Linear-105                   [-1, 10]           5,130\n",
            "================================================================\n",
            "Total params: 9,752,074\n",
            "Trainable params: 9,752,074\n",
            "Non-trainable params: 0\n",
            "----------------------------------------------------------------\n",
            "Input size (MB): 0.01\n",
            "Forward/backward pass size (MB): 28.20\n",
            "Params size (MB): 37.20\n",
            "Estimated Total Size (MB): 65.41\n",
            "----------------------------------------------------------------\n"
          ]
        }
      ]
    },
    {
      "cell_type": "code",
      "source": [
        "summary(csp_vit_net, (3,32,32))"
      ],
      "metadata": {
        "colab": {
          "base_uri": "https://localhost:8080/"
        },
        "id": "51aASvbWIUiY",
        "outputId": "1e1ece3c-102f-4028-de4d-cb43b1c8e5f0"
      },
      "execution_count": null,
      "outputs": [
        {
          "output_type": "stream",
          "name": "stdout",
          "text": [
            "----------------------------------------------------------------\n",
            "        Layer (type)               Output Shape         Param #\n",
            "================================================================\n",
            "            Linear-1              [-1, 64, 512]          24,576\n",
            "           Dropout-2              [-1, 65, 512]               0\n",
            "         LayerNorm-3              [-1, 32, 512]           1,024\n",
            "            Linear-4             [-1, 32, 1536]         786,432\n",
            "            Linear-5              [-1, 32, 512]         262,656\n",
            "           Dropout-6              [-1, 32, 512]               0\n",
            "         Attention-7              [-1, 32, 512]               0\n",
            "           PreNorm-8              [-1, 32, 512]               0\n",
            "          Residual-9              [-1, 32, 512]               0\n",
            "        LayerNorm-10              [-1, 65, 512]           1,024\n",
            "           Linear-11              [-1, 65, 512]         262,656\n",
            "             GELU-12              [-1, 65, 512]               0\n",
            "          Dropout-13              [-1, 65, 512]               0\n",
            "           Linear-14              [-1, 65, 512]         262,656\n",
            "          Dropout-15              [-1, 65, 512]               0\n",
            "      FeedForward-16              [-1, 65, 512]               0\n",
            "          PreNorm-17              [-1, 65, 512]               0\n",
            "         Residual-18              [-1, 65, 512]               0\n",
            "        LayerNorm-19              [-1, 33, 512]           1,024\n",
            "           Linear-20             [-1, 33, 1536]         786,432\n",
            "           Linear-21              [-1, 33, 512]         262,656\n",
            "          Dropout-22              [-1, 33, 512]               0\n",
            "        Attention-23              [-1, 33, 512]               0\n",
            "          PreNorm-24              [-1, 33, 512]               0\n",
            "         Residual-25              [-1, 33, 512]               0\n",
            "        LayerNorm-26              [-1, 65, 512]           1,024\n",
            "           Linear-27              [-1, 65, 512]         262,656\n",
            "             GELU-28              [-1, 65, 512]               0\n",
            "          Dropout-29              [-1, 65, 512]               0\n",
            "           Linear-30              [-1, 65, 512]         262,656\n",
            "          Dropout-31              [-1, 65, 512]               0\n",
            "      FeedForward-32              [-1, 65, 512]               0\n",
            "          PreNorm-33              [-1, 65, 512]               0\n",
            "         Residual-34              [-1, 65, 512]               0\n",
            "        LayerNorm-35              [-1, 32, 512]           1,024\n",
            "           Linear-36             [-1, 32, 1536]         786,432\n",
            "           Linear-37              [-1, 32, 512]         262,656\n",
            "          Dropout-38              [-1, 32, 512]               0\n",
            "        Attention-39              [-1, 32, 512]               0\n",
            "          PreNorm-40              [-1, 32, 512]               0\n",
            "         Residual-41              [-1, 32, 512]               0\n",
            "        LayerNorm-42              [-1, 65, 512]           1,024\n",
            "           Linear-43              [-1, 65, 512]         262,656\n",
            "             GELU-44              [-1, 65, 512]               0\n",
            "          Dropout-45              [-1, 65, 512]               0\n",
            "           Linear-46              [-1, 65, 512]         262,656\n",
            "          Dropout-47              [-1, 65, 512]               0\n",
            "      FeedForward-48              [-1, 65, 512]               0\n",
            "          PreNorm-49              [-1, 65, 512]               0\n",
            "         Residual-50              [-1, 65, 512]               0\n",
            "        LayerNorm-51              [-1, 33, 512]           1,024\n",
            "           Linear-52             [-1, 33, 1536]         786,432\n",
            "           Linear-53              [-1, 33, 512]         262,656\n",
            "          Dropout-54              [-1, 33, 512]               0\n",
            "        Attention-55              [-1, 33, 512]               0\n",
            "          PreNorm-56              [-1, 33, 512]               0\n",
            "         Residual-57              [-1, 33, 512]               0\n",
            "        LayerNorm-58              [-1, 65, 512]           1,024\n",
            "           Linear-59              [-1, 65, 512]         262,656\n",
            "             GELU-60              [-1, 65, 512]               0\n",
            "          Dropout-61              [-1, 65, 512]               0\n",
            "           Linear-62              [-1, 65, 512]         262,656\n",
            "          Dropout-63              [-1, 65, 512]               0\n",
            "      FeedForward-64              [-1, 65, 512]               0\n",
            "          PreNorm-65              [-1, 65, 512]               0\n",
            "         Residual-66              [-1, 65, 512]               0\n",
            "        LayerNorm-67              [-1, 65, 512]           1,024\n",
            "           Linear-68             [-1, 65, 1536]         786,432\n",
            "           Linear-69              [-1, 65, 512]         262,656\n",
            "          Dropout-70              [-1, 65, 512]               0\n",
            "        Attention-71              [-1, 65, 512]               0\n",
            "          PreNorm-72              [-1, 65, 512]               0\n",
            "         Residual-73              [-1, 65, 512]               0\n",
            "        LayerNorm-74              [-1, 65, 512]           1,024\n",
            "           Linear-75              [-1, 65, 512]         262,656\n",
            "             GELU-76              [-1, 65, 512]               0\n",
            "          Dropout-77              [-1, 65, 512]               0\n",
            "           Linear-78              [-1, 65, 512]         262,656\n",
            "          Dropout-79              [-1, 65, 512]               0\n",
            "      FeedForward-80              [-1, 65, 512]               0\n",
            "          PreNorm-81              [-1, 65, 512]               0\n",
            "         Residual-82              [-1, 65, 512]               0\n",
            "        LayerNorm-83              [-1, 65, 512]           1,024\n",
            "           Linear-84             [-1, 65, 1536]         786,432\n",
            "           Linear-85              [-1, 65, 512]         262,656\n",
            "          Dropout-86              [-1, 65, 512]               0\n",
            "        Attention-87              [-1, 65, 512]               0\n",
            "          PreNorm-88              [-1, 65, 512]               0\n",
            "         Residual-89              [-1, 65, 512]               0\n",
            "        LayerNorm-90              [-1, 65, 512]           1,024\n",
            "           Linear-91              [-1, 65, 512]         262,656\n",
            "             GELU-92              [-1, 65, 512]               0\n",
            "          Dropout-93              [-1, 65, 512]               0\n",
            "           Linear-94              [-1, 65, 512]         262,656\n",
            "          Dropout-95              [-1, 65, 512]               0\n",
            "      FeedForward-96              [-1, 65, 512]               0\n",
            "          PreNorm-97              [-1, 65, 512]               0\n",
            "         Residual-98              [-1, 65, 512]               0\n",
            "  CSP_Transformer-99              [-1, 65, 512]               0\n",
            "        Identity-100                  [-1, 512]               0\n",
            "       LayerNorm-101                  [-1, 512]           1,024\n",
            "          Linear-102                  [-1, 512]         262,656\n",
            "            GELU-103                  [-1, 512]               0\n",
            "         Dropout-104                  [-1, 512]               0\n",
            "          Linear-105                   [-1, 10]           5,130\n",
            "================================================================\n",
            "Total params: 9,752,074\n",
            "Trainable params: 9,752,074\n",
            "Non-trainable params: 0\n",
            "----------------------------------------------------------------\n",
            "Input size (MB): 0.01\n",
            "Forward/backward pass size (MB): 23.63\n",
            "Params size (MB): 37.20\n",
            "Estimated Total Size (MB): 60.84\n",
            "----------------------------------------------------------------\n"
          ]
        }
      ]
    },
    {
      "cell_type": "code",
      "source": [
        "summary(lite_vit_net, (3,32,32))"
      ],
      "metadata": {
        "colab": {
          "base_uri": "https://localhost:8080/"
        },
        "id": "v7kxkZilIZB2",
        "outputId": "efe11979-0ef9-4291-f6f6-fd0db516a17b"
      },
      "execution_count": 21,
      "outputs": [
        {
          "output_type": "stream",
          "name": "stdout",
          "text": [
            "----------------------------------------------------------------\n",
            "        Layer (type)               Output Shape         Param #\n",
            "================================================================\n",
            "            Linear-1              [-1, 64, 512]          24,576\n",
            "           Dropout-2              [-1, 65, 512]               0\n",
            "         LayerNorm-3              [-1, 65, 512]           1,024\n",
            "            Linear-4              [-1, 65, 512]         262,656\n",
            "              GELU-5              [-1, 65, 512]               0\n",
            "           Dropout-6              [-1, 65, 512]               0\n",
            "            Linear-7              [-1, 65, 512]         262,656\n",
            "           Dropout-8              [-1, 65, 512]               0\n",
            "       FeedForward-9              [-1, 65, 512]               0\n",
            "          PreNorm-10              [-1, 65, 512]               0\n",
            "         Residual-11              [-1, 65, 512]               0\n",
            "        LayerNorm-12              [-1, 65, 512]           1,024\n",
            "           Linear-13             [-1, 65, 1536]         786,432\n",
            "           Linear-14              [-1, 65, 512]         262,656\n",
            "          Dropout-15              [-1, 65, 512]               0\n",
            "        Attention-16              [-1, 65, 512]               0\n",
            "          PreNorm-17              [-1, 65, 512]               0\n",
            "         Residual-18              [-1, 65, 512]               0\n",
            "        LayerNorm-19              [-1, 65, 512]           1,024\n",
            "           Linear-20              [-1, 65, 512]         262,656\n",
            "             GELU-21              [-1, 65, 512]               0\n",
            "          Dropout-22              [-1, 65, 512]               0\n",
            "           Linear-23              [-1, 65, 512]         262,656\n",
            "          Dropout-24              [-1, 65, 512]               0\n",
            "      FeedForward-25              [-1, 65, 512]               0\n",
            "          PreNorm-26              [-1, 65, 512]               0\n",
            "         Residual-27              [-1, 65, 512]               0\n",
            "        LayerNorm-28              [-1, 65, 512]           1,024\n",
            "           Linear-29             [-1, 65, 1536]         786,432\n",
            "           Linear-30              [-1, 65, 512]         262,656\n",
            "          Dropout-31              [-1, 65, 512]               0\n",
            "        Attention-32              [-1, 65, 512]               0\n",
            "          PreNorm-33              [-1, 65, 512]               0\n",
            "         Residual-34              [-1, 65, 512]               0\n",
            "        LayerNorm-35              [-1, 65, 512]           1,024\n",
            "           Linear-36              [-1, 65, 512]         262,656\n",
            "             GELU-37              [-1, 65, 512]               0\n",
            "          Dropout-38              [-1, 65, 512]               0\n",
            "           Linear-39              [-1, 65, 512]         262,656\n",
            "          Dropout-40              [-1, 65, 512]               0\n",
            "      FeedForward-41              [-1, 65, 512]               0\n",
            "          PreNorm-42              [-1, 65, 512]               0\n",
            "         Residual-43              [-1, 65, 512]               0\n",
            "        LayerNorm-44              [-1, 65, 512]           1,024\n",
            "           Linear-45             [-1, 65, 1536]         786,432\n",
            "           Linear-46              [-1, 65, 512]         262,656\n",
            "          Dropout-47              [-1, 65, 512]               0\n",
            "        Attention-48              [-1, 65, 512]               0\n",
            "          PreNorm-49              [-1, 65, 512]               0\n",
            "         Residual-50              [-1, 65, 512]               0\n",
            "        LayerNorm-51              [-1, 65, 512]           1,024\n",
            "           Linear-52              [-1, 65, 512]         262,656\n",
            "             GELU-53              [-1, 65, 512]               0\n",
            "          Dropout-54              [-1, 65, 512]               0\n",
            "           Linear-55              [-1, 65, 512]         262,656\n",
            "          Dropout-56              [-1, 65, 512]               0\n",
            "      FeedForward-57              [-1, 65, 512]               0\n",
            "          PreNorm-58              [-1, 65, 512]               0\n",
            "         Residual-59              [-1, 65, 512]               0\n",
            "        LayerNorm-60              [-1, 65, 512]           1,024\n",
            "           Linear-61             [-1, 65, 1536]         786,432\n",
            "           Linear-62              [-1, 65, 512]         262,656\n",
            "          Dropout-63              [-1, 65, 512]               0\n",
            "        Attention-64              [-1, 65, 512]               0\n",
            "          PreNorm-65              [-1, 65, 512]               0\n",
            "         Residual-66              [-1, 65, 512]               0\n",
            "        LayerNorm-67              [-1, 65, 512]           1,024\n",
            "           Linear-68              [-1, 65, 512]         262,656\n",
            "             GELU-69              [-1, 65, 512]               0\n",
            "          Dropout-70              [-1, 65, 512]               0\n",
            "           Linear-71              [-1, 65, 512]         262,656\n",
            "          Dropout-72              [-1, 65, 512]               0\n",
            "      FeedForward-73              [-1, 65, 512]               0\n",
            "          PreNorm-74              [-1, 65, 512]               0\n",
            "         Residual-75              [-1, 65, 512]               0\n",
            "        LayerNorm-76              [-1, 65, 512]           1,024\n",
            "           Linear-77             [-1, 65, 1536]         786,432\n",
            "           Linear-78              [-1, 65, 512]         262,656\n",
            "          Dropout-79              [-1, 65, 512]               0\n",
            "        Attention-80              [-1, 65, 512]               0\n",
            "          PreNorm-81              [-1, 65, 512]               0\n",
            "         Residual-82              [-1, 65, 512]               0\n",
            "        LayerNorm-83              [-1, 65, 512]           1,024\n",
            "           Linear-84              [-1, 65, 512]         262,656\n",
            "             GELU-85              [-1, 65, 512]               0\n",
            "          Dropout-86              [-1, 65, 512]               0\n",
            "           Linear-87              [-1, 65, 512]         262,656\n",
            "          Dropout-88              [-1, 65, 512]               0\n",
            "      FeedForward-89              [-1, 65, 512]               0\n",
            "          PreNorm-90              [-1, 65, 512]               0\n",
            "         Residual-91              [-1, 65, 512]               0\n",
            " Lite_Transformer-92              [-1, 65, 512]               0\n",
            "         Identity-93                  [-1, 512]               0\n",
            "        LayerNorm-94                  [-1, 512]           1,024\n",
            "           Linear-95                  [-1, 512]         262,656\n",
            "             GELU-96                  [-1, 512]               0\n",
            "          Dropout-97                  [-1, 512]               0\n",
            "           Linear-98                   [-1, 10]           5,130\n",
            "================================================================\n",
            "Total params: 8,701,962\n",
            "Trainable params: 8,701,962\n",
            "Non-trainable params: 0\n",
            "----------------------------------------------------------------\n",
            "Input size (MB): 0.01\n",
            "Forward/backward pass size (MB): 25.91\n",
            "Params size (MB): 33.20\n",
            "Estimated Total Size (MB): 59.12\n",
            "----------------------------------------------------------------\n"
          ]
        }
      ]
    },
    {
      "cell_type": "markdown",
      "source": [
        "#CSPS_VIT ver2"
      ],
      "metadata": {
        "id": "d4vS-vYfSEIi"
      }
    },
    {
      "cell_type": "code",
      "metadata": {
        "id": "_JZwL8aeTz7w"
      },
      "source": [
        "# transformer encoder의 Multi-Head Self-Attention\n",
        "class Attention_ver2(nn.Module): \n",
        "  def __init__(self, dim, heads=8, dropout=0.):\n",
        "    super().__init__()\n",
        "    self.heads = heads \n",
        "    self.scales = heads ** (-0.5)\n",
        "\n",
        "    self.to_qkv = nn.Linear(dim, dim * 3, bias=False)\n",
        "    self.to_out = nn.Sequential(\n",
        "        nn.Linear(dim, dim), \n",
        "        nn.Dropout(dropout)\n",
        "    )\n",
        "\n",
        "  def forward(self, x):\n",
        "    b, n, _, h = *x.shape, self.heads\n",
        "\n",
        "    # input vector를 이용해서 query, key, value vector 생성\n",
        "    # (batch, n, dim)이 3개인 tuple 형태\n",
        "    qkv = self.to_qkv(x).chunk(3, dim=-1)\n",
        "\n",
        "    # 각각의 vector를 head 만큼 split\n",
        "    # (batch, n, dim) -> (batch, head, n, dim/head)\n",
        "    q, k, v = map(lambda t: rearrange(t, \"b n (h d) -> b h n d\", h=h), qkv)\n",
        "\n",
        "    # compute similarity (scaled dot product) (batch와 head를 유지하면서 행렬곱 진행)\n",
        "    # (batch, head, i, d), (batch, head, j, d) -> (batch, head, i, j) // (i는 query의 개수, j는 key의 개수)\n",
        "    dots = torch.einsum(\"bhid, bhjd->bhij\", q, k) * self.scales\n",
        "\n",
        "    # compute attention weights\n",
        "    # (batch, head, i, j)\n",
        "    attn = dots.softmax(dim=-1)\n",
        "\n",
        "    # compute output vector (batch와 head 유지하면서 행렬곱 진행)\n",
        "    # (batch, head, i, j), (batch, head, i, d) -> (batch, head, i, d)\n",
        "    out = torch.einsum(\"bhij,bhjd->bhid\", attn, v)\n",
        "\n",
        "    # split했던 head들을 concat\n",
        "    # (batch, head, i, d) -> (batch, i, head * d)\n",
        "    out = rearrange(out, \"b h n d -> b n (h d)\")\n",
        "\n",
        "    out = self.to_out(out)\n",
        "    return out"
      ],
      "execution_count": null,
      "outputs": []
    },
    {
      "cell_type": "code",
      "metadata": {
        "id": "504Xm9LaSHYw"
      },
      "source": [
        "# transformer encoder\n",
        "class CSP_Transformer_ver2(nn.Module):\n",
        "  def __init__(self, dim, depth, heads, mlp_dim, dropout):\n",
        "    super().__init__()\n",
        "    self.layers = nn.ModuleList([])\n",
        "    dim2 = dim2/2\n",
        "    heads2=heads/2\n",
        "    \n",
        "    self.CSPS1 = Residual(PreNorm(dim2, Attention_ver2(dim2, heads=heads2, dropout=dropout)))\n",
        "    self.CSPS2 = Residual(PreNorm(dim2, Attention_ver2(dim2, heads=heads2, dropout=dropout)))\n",
        "    self.FFN1 = Residual(PreNorm(dim, FeedForward(dim, mlp_dim, dropout=dropout)))\n",
        "    self.FFN2 = Residual(PreNorm(dim, FeedForward(dim, mlp_dim, dropout=dropout)))\n",
        "\n",
        "    # depth만큼 transformer block 쌓음\n",
        "    for _ in range(depth - 2):\n",
        "      self.layers.append(nn.ModuleList([\n",
        "                                        Residual(PreNorm(dim, Attention(dim, heads=heads, dropout=dropout))), \n",
        "                                        Residual(PreNorm(dim, FeedForward(dim, mlp_dim, dropout=dropout)))\n",
        "      ]))\n",
        "\n",
        "  def forward(self, x):\n",
        "    x1, x2 = x.chunk(2, dim = 2)\n",
        "    x2 = self.CSPS1(x2)\n",
        "    x = torch.cat([x1, x2], dim=2)\n",
        "    x = self.FFN1(x)\n",
        "\n",
        "    x1, x2 = x.chunk(2, dim = 2)\n",
        "    x1 = self.CSPS2(x1)\n",
        "    x = torch.cat([x1, x2], dim=2)\n",
        "    x = self.FFN2(x)\n",
        "\n",
        "    for attn, ff in self.layers:\n",
        "      x = attn(x) # LayerNorm->Attention->Residual connection\n",
        "      x = ff(x)   # LayerNorm->MLP Layer->Residual connection\n",
        "    return x"
      ],
      "execution_count": null,
      "outputs": []
    },
    {
      "cell_type": "code",
      "source": [
        "MIN_NUM_PATCHES = 16\n",
        "class CSP_ViT_ver2(nn.Module): \n",
        "  def __init__(self, *, image_size, patch_size, num_classes, dim, depth, heads, mlp_dim, channels=3, dropout=0., emb_dropout=0.):\n",
        "    super().__init__()\n",
        "    assert image_size % patch_size == 0, \"image size must be divisible for the patch size\"\n",
        "    num_patches = (image_size // patch_size) ** 2\n",
        "    patch_dim = channels * patch_size**2 \n",
        "    assert num_patches >= MIN_NUM_PATCHES,  f'your number of patches ({num_patches}) is way too small for attention to be effective. try decreasing your patch size'\n",
        "\n",
        "    self.patch_size = patch_size \n",
        "\n",
        "    self.pos_embedding = nn.Parameter(torch.randn(1, num_patches+1, dim))\n",
        "    self.patch_to_embedding = nn.Linear(patch_dim, dim, bias=False)\n",
        "    self.cls_token = nn.Parameter(torch.randn(1, 1, dim))\n",
        "    self.dropout = nn.Dropout(emb_dropout)\n",
        "\n",
        "    self.transformer = CSP_Transformer_ver2(dim, depth, heads, mlp_dim, dropout)\n",
        "\n",
        "    self.to_cls_token = nn.Identity()\n",
        "\n",
        "    self.mlp_head = nn.Sequential(\n",
        "        nn.LayerNorm(dim), \n",
        "        nn.Linear(dim, mlp_dim), \n",
        "        nn.GELU(), \n",
        "        nn.Dropout(dropout), \n",
        "        nn.Linear(mlp_dim, num_classes)\n",
        "    )\n",
        "\n",
        "  def forward(self, img):\n",
        "    # img shape = (batch size, channel, height, width)\n",
        "\n",
        "    p = self.patch_size\n",
        "    \n",
        "    # 이미지를 패치로 자름, 각 패치를 flatten(1-Dimension) 하게 만듬\n",
        "    # (batch size, channel, height, width) -> (batch size, number of patch, patch_dim)\n",
        "    x = rearrange(img, \"b c (h p1) (w p2) -> b (h w) (p1 p2 c)\", p1=p, p2=p)\n",
        "    \n",
        "    # patch embedding\n",
        "    # (batch size, number of patch, patch_dim) -> (batch size, number of patch, dim)\n",
        "    x = self.patch_to_embedding(x)\n",
        "    b, n, _ = x.shape\n",
        "\n",
        "    # class token embedding vector를 batch size만큼 확장\n",
        "    # (batch size, 1, dim)\n",
        "    cls_tokens = self.cls_token.expand(b, -1, -1)\n",
        "\n",
        "    # x 맨 앞에 cls_tokens 붙힘\n",
        "    # (batch size, number of patch, dim) -> (batch size, number of patch + 1, dim)\n",
        "    x = torch.cat((cls_tokens, x), dim=1)\n",
        "\n",
        "    # x에 pos_embedding 더해줌\n",
        "    # shape 같음\n",
        "    x += self.pos_embedding[:, :(n+1)]\n",
        "    x = self.dropout(x)\n",
        "\n",
        "    # trnasformer encoder layer\n",
        "    # (batch size, number of patch + 1, dim) -> (batch size, number of patch + 1, dim)\n",
        "    x = self.transformer(x)\n",
        "\n",
        "    # x 맨앞의 head(class token embedding vector) 추출\n",
        "    # (batch size, number of patch + 1, dim) -> (batch size, dim)\n",
        "    x = self.to_cls_token(x[:, 0])\n",
        "\n",
        "    # mlp layer를 통해 output 구함\n",
        "    # (batch size, dim) -> (batch size, class size(10))\n",
        "    return self.mlp_head(x)"
      ],
      "metadata": {
        "id": "bRxJ7U0SSXFW"
      },
      "execution_count": null,
      "outputs": []
    },
    {
      "cell_type": "code",
      "source": [
        "csp_vit_ver2_net = CSP_ViT_ver2(\n",
        "    image_size = 32,\n",
        "    patch_size = 4,\n",
        "    num_classes = 10,\n",
        "    dim = 512,\n",
        "    depth = 6,\n",
        "    heads = 8,\n",
        "    mlp_dim = 512,\n",
        "    dropout = 0.1,\n",
        "    emb_dropout = 0.1\n",
        ")\n",
        "csp_vit_ver2_net = csp_vit_ver2_net.to(device)"
      ],
      "metadata": {
        "colab": {
          "base_uri": "https://localhost:8080/",
          "height": 401
        },
        "id": "Q4Q7ZCKrSfTW",
        "outputId": "12ed51b2-66b5-4522-bf48-6499b844e127"
      },
      "execution_count": null,
      "outputs": [
        {
          "output_type": "error",
          "ename": "UnboundLocalError",
          "evalue": "ignored",
          "traceback": [
            "\u001b[0;31m---------------------------------------------------------------------------\u001b[0m",
            "\u001b[0;31mUnboundLocalError\u001b[0m                         Traceback (most recent call last)",
            "\u001b[0;32m<ipython-input-37-28a52ac515ac>\u001b[0m in \u001b[0;36m<module>\u001b[0;34m\u001b[0m\n\u001b[0;32m----> 1\u001b[0;31m csp_vit_ver2_net = CSP_ViT_ver2(\n\u001b[0m\u001b[1;32m      2\u001b[0m     \u001b[0mimage_size\u001b[0m \u001b[0;34m=\u001b[0m \u001b[0;36m32\u001b[0m\u001b[0;34m,\u001b[0m\u001b[0;34m\u001b[0m\u001b[0;34m\u001b[0m\u001b[0m\n\u001b[1;32m      3\u001b[0m     \u001b[0mpatch_size\u001b[0m \u001b[0;34m=\u001b[0m \u001b[0;36m4\u001b[0m\u001b[0;34m,\u001b[0m\u001b[0;34m\u001b[0m\u001b[0;34m\u001b[0m\u001b[0m\n\u001b[1;32m      4\u001b[0m     \u001b[0mnum_classes\u001b[0m \u001b[0;34m=\u001b[0m \u001b[0;36m10\u001b[0m\u001b[0;34m,\u001b[0m\u001b[0;34m\u001b[0m\u001b[0;34m\u001b[0m\u001b[0m\n\u001b[1;32m      5\u001b[0m     \u001b[0mdim\u001b[0m \u001b[0;34m=\u001b[0m \u001b[0;36m512\u001b[0m\u001b[0;34m,\u001b[0m\u001b[0;34m\u001b[0m\u001b[0;34m\u001b[0m\u001b[0m\n",
            "\u001b[0;32m<ipython-input-36-8753690ebe89>\u001b[0m in \u001b[0;36m__init__\u001b[0;34m(self, image_size, patch_size, num_classes, dim, depth, heads, mlp_dim, channels, dropout, emb_dropout)\u001b[0m\n\u001b[1;32m     15\u001b[0m     \u001b[0mself\u001b[0m\u001b[0;34m.\u001b[0m\u001b[0mdropout\u001b[0m \u001b[0;34m=\u001b[0m \u001b[0mnn\u001b[0m\u001b[0;34m.\u001b[0m\u001b[0mDropout\u001b[0m\u001b[0;34m(\u001b[0m\u001b[0memb_dropout\u001b[0m\u001b[0;34m)\u001b[0m\u001b[0;34m\u001b[0m\u001b[0;34m\u001b[0m\u001b[0m\n\u001b[1;32m     16\u001b[0m \u001b[0;34m\u001b[0m\u001b[0m\n\u001b[0;32m---> 17\u001b[0;31m     \u001b[0mself\u001b[0m\u001b[0;34m.\u001b[0m\u001b[0mtransformer\u001b[0m \u001b[0;34m=\u001b[0m \u001b[0mCSP_Transformer_ver2\u001b[0m\u001b[0;34m(\u001b[0m\u001b[0mdim\u001b[0m\u001b[0;34m,\u001b[0m \u001b[0mdepth\u001b[0m\u001b[0;34m,\u001b[0m \u001b[0mheads\u001b[0m\u001b[0;34m,\u001b[0m \u001b[0mmlp_dim\u001b[0m\u001b[0;34m,\u001b[0m \u001b[0mdropout\u001b[0m\u001b[0;34m)\u001b[0m\u001b[0;34m\u001b[0m\u001b[0;34m\u001b[0m\u001b[0m\n\u001b[0m\u001b[1;32m     18\u001b[0m \u001b[0;34m\u001b[0m\u001b[0m\n\u001b[1;32m     19\u001b[0m     \u001b[0mself\u001b[0m\u001b[0;34m.\u001b[0m\u001b[0mto_cls_token\u001b[0m \u001b[0;34m=\u001b[0m \u001b[0mnn\u001b[0m\u001b[0;34m.\u001b[0m\u001b[0mIdentity\u001b[0m\u001b[0;34m(\u001b[0m\u001b[0;34m)\u001b[0m\u001b[0;34m\u001b[0m\u001b[0;34m\u001b[0m\u001b[0m\n",
            "\u001b[0;32m<ipython-input-35-a22177692de8>\u001b[0m in \u001b[0;36m__init__\u001b[0;34m(self, dim, depth, heads, mlp_dim, dropout)\u001b[0m\n\u001b[1;32m      4\u001b[0m     \u001b[0msuper\u001b[0m\u001b[0;34m(\u001b[0m\u001b[0;34m)\u001b[0m\u001b[0;34m.\u001b[0m\u001b[0m__init__\u001b[0m\u001b[0;34m(\u001b[0m\u001b[0;34m)\u001b[0m\u001b[0;34m\u001b[0m\u001b[0;34m\u001b[0m\u001b[0m\n\u001b[1;32m      5\u001b[0m     \u001b[0mself\u001b[0m\u001b[0;34m.\u001b[0m\u001b[0mlayers\u001b[0m \u001b[0;34m=\u001b[0m \u001b[0mnn\u001b[0m\u001b[0;34m.\u001b[0m\u001b[0mModuleList\u001b[0m\u001b[0;34m(\u001b[0m\u001b[0;34m[\u001b[0m\u001b[0;34m]\u001b[0m\u001b[0;34m)\u001b[0m\u001b[0;34m\u001b[0m\u001b[0;34m\u001b[0m\u001b[0m\n\u001b[0;32m----> 6\u001b[0;31m     \u001b[0mdim2\u001b[0m \u001b[0;34m=\u001b[0m \u001b[0mdim2\u001b[0m\u001b[0;34m/\u001b[0m\u001b[0;36m2\u001b[0m\u001b[0;34m\u001b[0m\u001b[0;34m\u001b[0m\u001b[0m\n\u001b[0m\u001b[1;32m      7\u001b[0m     \u001b[0mheads2\u001b[0m\u001b[0;34m=\u001b[0m\u001b[0mheads\u001b[0m\u001b[0;34m/\u001b[0m\u001b[0;36m2\u001b[0m\u001b[0;34m\u001b[0m\u001b[0;34m\u001b[0m\u001b[0m\n\u001b[1;32m      8\u001b[0m \u001b[0;34m\u001b[0m\u001b[0m\n",
            "\u001b[0;31mUnboundLocalError\u001b[0m: local variable 'dim2' referenced before assignment"
          ]
        }
      ]
    },
    {
      "cell_type": "code",
      "source": [
        "x=torch.rand(8,8,8)\n",
        "x1, x2 = x.chunk(2, dim=2)\n",
        "print(x1.shape)\n",
        "print(x2.shape)"
      ],
      "metadata": {
        "colab": {
          "base_uri": "https://localhost:8080/"
        },
        "id": "xejcQLpXW6bC",
        "outputId": "837f1d22-fb0f-4a07-da1c-33d037f208ad"
      },
      "execution_count": null,
      "outputs": [
        {
          "output_type": "stream",
          "name": "stdout",
          "text": [
            "torch.Size([8, 8, 4])\n",
            "torch.Size([8, 8, 4])\n"
          ]
        }
      ]
    },
    {
      "cell_type": "code",
      "source": [
        "criterion = nn.CrossEntropyLoss()\n",
        "optimizer = optim.Adam(csp_vit_ver2_net.parameters(), lr=lr)\n",
        "scheduler = optim.lr_scheduler.ReduceLROnPlateau(optimizer, 'min', patience=3, verbose=True, min_lr=1e-3*1e-5, factor=0.1)"
      ],
      "metadata": {
        "id": "kDgBlOB-SfTX"
      },
      "execution_count": null,
      "outputs": []
    },
    {
      "cell_type": "code",
      "source": [
        "\n",
        "n_epochs = 10\n",
        "list_loss_csps_vit_ver2 = []\n",
        "list_acc_csps_vit_ver2 = []\n",
        "for epoch in range(n_epochs):\n",
        "  print('\\nEpoch: %d' % epoch)\n",
        "  train(csp_vit_ver2_net)\n",
        "  val_loss, val_acc = test(csp_vit_ver2_net)\n",
        "\n",
        "  list_loss_csps_vit_ver2.append(val_loss)\n",
        "  list_acc_csps_vit_ver2.append(val_acc)\n"
      ],
      "metadata": {
        "colab": {
          "base_uri": "https://localhost:8080/",
          "height": 438
        },
        "outputId": "496763dd-2d95-4c06-f080-e54875ccd5a5",
        "id": "M7D6kuM9SfTX"
      },
      "execution_count": null,
      "outputs": [
        {
          "output_type": "stream",
          "name": "stdout",
          "text": [
            "\n",
            "Epoch: 0\n"
          ]
        },
        {
          "output_type": "error",
          "ename": "RuntimeError",
          "evalue": "ignored",
          "traceback": [
            "\u001b[0;31m---------------------------------------------------------------------------\u001b[0m",
            "\u001b[0;31mRuntimeError\u001b[0m                              Traceback (most recent call last)",
            "\u001b[0;32m<ipython-input-49-b53ef1672856>\u001b[0m in \u001b[0;36m<module>\u001b[0;34m\u001b[0m\n\u001b[1;32m      4\u001b[0m \u001b[0;32mfor\u001b[0m \u001b[0mepoch\u001b[0m \u001b[0;32min\u001b[0m \u001b[0mrange\u001b[0m\u001b[0;34m(\u001b[0m\u001b[0mn_epochs\u001b[0m\u001b[0;34m)\u001b[0m\u001b[0;34m:\u001b[0m\u001b[0;34m\u001b[0m\u001b[0;34m\u001b[0m\u001b[0m\n\u001b[1;32m      5\u001b[0m   \u001b[0mprint\u001b[0m\u001b[0;34m(\u001b[0m\u001b[0;34m'\\nEpoch: %d'\u001b[0m \u001b[0;34m%\u001b[0m \u001b[0mepoch\u001b[0m\u001b[0;34m)\u001b[0m\u001b[0;34m\u001b[0m\u001b[0;34m\u001b[0m\u001b[0m\n\u001b[0;32m----> 6\u001b[0;31m   \u001b[0mtrain\u001b[0m\u001b[0;34m(\u001b[0m\u001b[0mcsp_vit_ver2_net\u001b[0m\u001b[0;34m)\u001b[0m\u001b[0;34m\u001b[0m\u001b[0;34m\u001b[0m\u001b[0m\n\u001b[0m\u001b[1;32m      7\u001b[0m   \u001b[0mval_loss\u001b[0m\u001b[0;34m,\u001b[0m \u001b[0mval_acc\u001b[0m \u001b[0;34m=\u001b[0m \u001b[0mtest\u001b[0m\u001b[0;34m(\u001b[0m\u001b[0mcsp_vit_ver2_net\u001b[0m\u001b[0;34m)\u001b[0m\u001b[0;34m\u001b[0m\u001b[0;34m\u001b[0m\u001b[0m\n\u001b[1;32m      8\u001b[0m \u001b[0;34m\u001b[0m\u001b[0m\n",
            "\u001b[0;32m<ipython-input-19-ecd7c2ece835>\u001b[0m in \u001b[0;36mtrain\u001b[0;34m(model)\u001b[0m\n\u001b[1;32m      9\u001b[0m     \u001b[0minputs\u001b[0m\u001b[0;34m,\u001b[0m \u001b[0mtargets\u001b[0m \u001b[0;34m=\u001b[0m \u001b[0minputs\u001b[0m\u001b[0;34m.\u001b[0m\u001b[0mto\u001b[0m\u001b[0;34m(\u001b[0m\u001b[0mdevice\u001b[0m\u001b[0;34m)\u001b[0m\u001b[0;34m,\u001b[0m \u001b[0mtargets\u001b[0m\u001b[0;34m.\u001b[0m\u001b[0mto\u001b[0m\u001b[0;34m(\u001b[0m\u001b[0mdevice\u001b[0m\u001b[0;34m)\u001b[0m\u001b[0;34m\u001b[0m\u001b[0;34m\u001b[0m\u001b[0m\n\u001b[1;32m     10\u001b[0m     \u001b[0moptimizer\u001b[0m\u001b[0;34m.\u001b[0m\u001b[0mzero_grad\u001b[0m\u001b[0;34m(\u001b[0m\u001b[0;34m)\u001b[0m\u001b[0;34m\u001b[0m\u001b[0;34m\u001b[0m\u001b[0m\n\u001b[0;32m---> 11\u001b[0;31m     \u001b[0moutputs\u001b[0m \u001b[0;34m=\u001b[0m \u001b[0mmodel\u001b[0m\u001b[0;34m(\u001b[0m\u001b[0minputs\u001b[0m\u001b[0;34m)\u001b[0m\u001b[0;34m\u001b[0m\u001b[0;34m\u001b[0m\u001b[0m\n\u001b[0m\u001b[1;32m     12\u001b[0m     \u001b[0mloss\u001b[0m \u001b[0;34m=\u001b[0m \u001b[0mcriterion\u001b[0m\u001b[0;34m(\u001b[0m\u001b[0moutputs\u001b[0m\u001b[0;34m,\u001b[0m \u001b[0mtargets\u001b[0m\u001b[0;34m)\u001b[0m\u001b[0;34m\u001b[0m\u001b[0;34m\u001b[0m\u001b[0m\n\u001b[1;32m     13\u001b[0m     \u001b[0mloss\u001b[0m\u001b[0;34m.\u001b[0m\u001b[0mbackward\u001b[0m\u001b[0;34m(\u001b[0m\u001b[0;34m)\u001b[0m\u001b[0;34m\u001b[0m\u001b[0;34m\u001b[0m\u001b[0m\n",
            "\u001b[0;32m/usr/local/lib/python3.8/dist-packages/torch/nn/modules/module.py\u001b[0m in \u001b[0;36m_call_impl\u001b[0;34m(self, *input, **kwargs)\u001b[0m\n\u001b[1;32m   1188\u001b[0m         if not (self._backward_hooks or self._forward_hooks or self._forward_pre_hooks or _global_backward_hooks\n\u001b[1;32m   1189\u001b[0m                 or _global_forward_hooks or _global_forward_pre_hooks):\n\u001b[0;32m-> 1190\u001b[0;31m             \u001b[0;32mreturn\u001b[0m \u001b[0mforward_call\u001b[0m\u001b[0;34m(\u001b[0m\u001b[0;34m*\u001b[0m\u001b[0minput\u001b[0m\u001b[0;34m,\u001b[0m \u001b[0;34m**\u001b[0m\u001b[0mkwargs\u001b[0m\u001b[0;34m)\u001b[0m\u001b[0;34m\u001b[0m\u001b[0;34m\u001b[0m\u001b[0m\n\u001b[0m\u001b[1;32m   1191\u001b[0m         \u001b[0;31m# Do not call functions when jit is used\u001b[0m\u001b[0;34m\u001b[0m\u001b[0;34m\u001b[0m\u001b[0;34m\u001b[0m\u001b[0m\n\u001b[1;32m   1192\u001b[0m         \u001b[0mfull_backward_hooks\u001b[0m\u001b[0;34m,\u001b[0m \u001b[0mnon_full_backward_hooks\u001b[0m \u001b[0;34m=\u001b[0m \u001b[0;34m[\u001b[0m\u001b[0;34m]\u001b[0m\u001b[0;34m,\u001b[0m \u001b[0;34m[\u001b[0m\u001b[0;34m]\u001b[0m\u001b[0;34m\u001b[0m\u001b[0;34m\u001b[0m\u001b[0m\n",
            "\u001b[0;32m<ipython-input-46-8753690ebe89>\u001b[0m in \u001b[0;36mforward\u001b[0;34m(self, img)\u001b[0m\n\u001b[1;32m     56\u001b[0m     \u001b[0;31m# trnasformer encoder layer\u001b[0m\u001b[0;34m\u001b[0m\u001b[0;34m\u001b[0m\u001b[0;34m\u001b[0m\u001b[0m\n\u001b[1;32m     57\u001b[0m     \u001b[0;31m# (batch size, number of patch + 1, dim) -> (batch size, number of patch + 1, dim)\u001b[0m\u001b[0;34m\u001b[0m\u001b[0;34m\u001b[0m\u001b[0;34m\u001b[0m\u001b[0m\n\u001b[0;32m---> 58\u001b[0;31m     \u001b[0mx\u001b[0m \u001b[0;34m=\u001b[0m \u001b[0mself\u001b[0m\u001b[0;34m.\u001b[0m\u001b[0mtransformer\u001b[0m\u001b[0;34m(\u001b[0m\u001b[0mx\u001b[0m\u001b[0;34m)\u001b[0m\u001b[0;34m\u001b[0m\u001b[0;34m\u001b[0m\u001b[0m\n\u001b[0m\u001b[1;32m     59\u001b[0m \u001b[0;34m\u001b[0m\u001b[0m\n\u001b[1;32m     60\u001b[0m     \u001b[0;31m# x 맨앞의 head(class token embedding vector) 추출\u001b[0m\u001b[0;34m\u001b[0m\u001b[0;34m\u001b[0m\u001b[0;34m\u001b[0m\u001b[0m\n",
            "\u001b[0;32m/usr/local/lib/python3.8/dist-packages/torch/nn/modules/module.py\u001b[0m in \u001b[0;36m_call_impl\u001b[0;34m(self, *input, **kwargs)\u001b[0m\n\u001b[1;32m   1188\u001b[0m         if not (self._backward_hooks or self._forward_hooks or self._forward_pre_hooks or _global_backward_hooks\n\u001b[1;32m   1189\u001b[0m                 or _global_forward_hooks or _global_forward_pre_hooks):\n\u001b[0;32m-> 1190\u001b[0;31m             \u001b[0;32mreturn\u001b[0m \u001b[0mforward_call\u001b[0m\u001b[0;34m(\u001b[0m\u001b[0;34m*\u001b[0m\u001b[0minput\u001b[0m\u001b[0;34m,\u001b[0m \u001b[0;34m**\u001b[0m\u001b[0mkwargs\u001b[0m\u001b[0;34m)\u001b[0m\u001b[0;34m\u001b[0m\u001b[0;34m\u001b[0m\u001b[0m\n\u001b[0m\u001b[1;32m   1191\u001b[0m         \u001b[0;31m# Do not call functions when jit is used\u001b[0m\u001b[0;34m\u001b[0m\u001b[0;34m\u001b[0m\u001b[0;34m\u001b[0m\u001b[0m\n\u001b[1;32m   1192\u001b[0m         \u001b[0mfull_backward_hooks\u001b[0m\u001b[0;34m,\u001b[0m \u001b[0mnon_full_backward_hooks\u001b[0m \u001b[0;34m=\u001b[0m \u001b[0;34m[\u001b[0m\u001b[0;34m]\u001b[0m\u001b[0;34m,\u001b[0m \u001b[0;34m[\u001b[0m\u001b[0;34m]\u001b[0m\u001b[0;34m\u001b[0m\u001b[0;34m\u001b[0m\u001b[0m\n",
            "\u001b[0;32m<ipython-input-45-d06cc239fea9>\u001b[0m in \u001b[0;36mforward\u001b[0;34m(self, x)\u001b[0m\n\u001b[1;32m     19\u001b[0m   \u001b[0;32mdef\u001b[0m \u001b[0mforward\u001b[0m\u001b[0;34m(\u001b[0m\u001b[0mself\u001b[0m\u001b[0;34m,\u001b[0m \u001b[0mx\u001b[0m\u001b[0;34m)\u001b[0m\u001b[0;34m:\u001b[0m\u001b[0;34m\u001b[0m\u001b[0;34m\u001b[0m\u001b[0m\n\u001b[1;32m     20\u001b[0m     \u001b[0mx1\u001b[0m\u001b[0;34m,\u001b[0m \u001b[0mx2\u001b[0m \u001b[0;34m=\u001b[0m \u001b[0mx\u001b[0m\u001b[0;34m.\u001b[0m\u001b[0mchunk\u001b[0m\u001b[0;34m(\u001b[0m\u001b[0;36m2\u001b[0m\u001b[0;34m,\u001b[0m \u001b[0mdim\u001b[0m \u001b[0;34m=\u001b[0m \u001b[0;36m2\u001b[0m\u001b[0;34m)\u001b[0m\u001b[0;34m\u001b[0m\u001b[0;34m\u001b[0m\u001b[0m\n\u001b[0;32m---> 21\u001b[0;31m     \u001b[0mx2\u001b[0m \u001b[0;34m=\u001b[0m \u001b[0mself\u001b[0m\u001b[0;34m.\u001b[0m\u001b[0mCSPS1\u001b[0m\u001b[0;34m(\u001b[0m\u001b[0mx2\u001b[0m\u001b[0;34m)\u001b[0m\u001b[0;34m\u001b[0m\u001b[0;34m\u001b[0m\u001b[0m\n\u001b[0m\u001b[1;32m     22\u001b[0m     \u001b[0mx\u001b[0m \u001b[0;34m=\u001b[0m \u001b[0mtorch\u001b[0m\u001b[0;34m.\u001b[0m\u001b[0mcat\u001b[0m\u001b[0;34m(\u001b[0m\u001b[0;34m[\u001b[0m\u001b[0mx1\u001b[0m\u001b[0;34m,\u001b[0m \u001b[0mx2\u001b[0m\u001b[0;34m]\u001b[0m\u001b[0;34m,\u001b[0m \u001b[0mdim\u001b[0m\u001b[0;34m=\u001b[0m\u001b[0;36m2\u001b[0m\u001b[0;34m)\u001b[0m\u001b[0;34m\u001b[0m\u001b[0;34m\u001b[0m\u001b[0m\n\u001b[1;32m     23\u001b[0m     \u001b[0mx\u001b[0m \u001b[0;34m=\u001b[0m \u001b[0mself\u001b[0m\u001b[0;34m.\u001b[0m\u001b[0mFFN1\u001b[0m\u001b[0;34m(\u001b[0m\u001b[0mx\u001b[0m\u001b[0;34m)\u001b[0m\u001b[0;34m\u001b[0m\u001b[0;34m\u001b[0m\u001b[0m\n",
            "\u001b[0;32m/usr/local/lib/python3.8/dist-packages/torch/nn/modules/module.py\u001b[0m in \u001b[0;36m_call_impl\u001b[0;34m(self, *input, **kwargs)\u001b[0m\n\u001b[1;32m   1188\u001b[0m         if not (self._backward_hooks or self._forward_hooks or self._forward_pre_hooks or _global_backward_hooks\n\u001b[1;32m   1189\u001b[0m                 or _global_forward_hooks or _global_forward_pre_hooks):\n\u001b[0;32m-> 1190\u001b[0;31m             \u001b[0;32mreturn\u001b[0m \u001b[0mforward_call\u001b[0m\u001b[0;34m(\u001b[0m\u001b[0;34m*\u001b[0m\u001b[0minput\u001b[0m\u001b[0;34m,\u001b[0m \u001b[0;34m**\u001b[0m\u001b[0mkwargs\u001b[0m\u001b[0;34m)\u001b[0m\u001b[0;34m\u001b[0m\u001b[0;34m\u001b[0m\u001b[0m\n\u001b[0m\u001b[1;32m   1191\u001b[0m         \u001b[0;31m# Do not call functions when jit is used\u001b[0m\u001b[0;34m\u001b[0m\u001b[0;34m\u001b[0m\u001b[0;34m\u001b[0m\u001b[0m\n\u001b[1;32m   1192\u001b[0m         \u001b[0mfull_backward_hooks\u001b[0m\u001b[0;34m,\u001b[0m \u001b[0mnon_full_backward_hooks\u001b[0m \u001b[0;34m=\u001b[0m \u001b[0;34m[\u001b[0m\u001b[0;34m]\u001b[0m\u001b[0;34m,\u001b[0m \u001b[0;34m[\u001b[0m\u001b[0;34m]\u001b[0m\u001b[0;34m\u001b[0m\u001b[0;34m\u001b[0m\u001b[0m\n",
            "\u001b[0;32m<ipython-input-4-cc57a176805d>\u001b[0m in \u001b[0;36mforward\u001b[0;34m(self, x)\u001b[0m\n\u001b[1;32m      6\u001b[0m \u001b[0;34m\u001b[0m\u001b[0m\n\u001b[1;32m      7\u001b[0m   \u001b[0;32mdef\u001b[0m \u001b[0mforward\u001b[0m\u001b[0;34m(\u001b[0m\u001b[0mself\u001b[0m\u001b[0;34m,\u001b[0m \u001b[0mx\u001b[0m\u001b[0;34m)\u001b[0m\u001b[0;34m:\u001b[0m\u001b[0;34m\u001b[0m\u001b[0;34m\u001b[0m\u001b[0m\n\u001b[0;32m----> 8\u001b[0;31m     \u001b[0;32mreturn\u001b[0m \u001b[0mself\u001b[0m\u001b[0;34m.\u001b[0m\u001b[0mfn\u001b[0m\u001b[0;34m(\u001b[0m\u001b[0mx\u001b[0m\u001b[0;34m)\u001b[0m \u001b[0;34m+\u001b[0m \u001b[0mx\u001b[0m\u001b[0;34m\u001b[0m\u001b[0;34m\u001b[0m\u001b[0m\n\u001b[0m",
            "\u001b[0;32m/usr/local/lib/python3.8/dist-packages/torch/nn/modules/module.py\u001b[0m in \u001b[0;36m_call_impl\u001b[0;34m(self, *input, **kwargs)\u001b[0m\n\u001b[1;32m   1188\u001b[0m         if not (self._backward_hooks or self._forward_hooks or self._forward_pre_hooks or _global_backward_hooks\n\u001b[1;32m   1189\u001b[0m                 or _global_forward_hooks or _global_forward_pre_hooks):\n\u001b[0;32m-> 1190\u001b[0;31m             \u001b[0;32mreturn\u001b[0m \u001b[0mforward_call\u001b[0m\u001b[0;34m(\u001b[0m\u001b[0;34m*\u001b[0m\u001b[0minput\u001b[0m\u001b[0;34m,\u001b[0m \u001b[0;34m**\u001b[0m\u001b[0mkwargs\u001b[0m\u001b[0;34m)\u001b[0m\u001b[0;34m\u001b[0m\u001b[0;34m\u001b[0m\u001b[0m\n\u001b[0m\u001b[1;32m   1191\u001b[0m         \u001b[0;31m# Do not call functions when jit is used\u001b[0m\u001b[0;34m\u001b[0m\u001b[0;34m\u001b[0m\u001b[0;34m\u001b[0m\u001b[0m\n\u001b[1;32m   1192\u001b[0m         \u001b[0mfull_backward_hooks\u001b[0m\u001b[0;34m,\u001b[0m \u001b[0mnon_full_backward_hooks\u001b[0m \u001b[0;34m=\u001b[0m \u001b[0;34m[\u001b[0m\u001b[0;34m]\u001b[0m\u001b[0;34m,\u001b[0m \u001b[0;34m[\u001b[0m\u001b[0;34m]\u001b[0m\u001b[0;34m\u001b[0m\u001b[0;34m\u001b[0m\u001b[0m\n",
            "\u001b[0;32m<ipython-input-5-119e3b53813f>\u001b[0m in \u001b[0;36mforward\u001b[0;34m(self, x)\u001b[0m\n\u001b[1;32m      7\u001b[0m \u001b[0;34m\u001b[0m\u001b[0m\n\u001b[1;32m      8\u001b[0m   \u001b[0;32mdef\u001b[0m \u001b[0mforward\u001b[0m\u001b[0;34m(\u001b[0m\u001b[0mself\u001b[0m\u001b[0;34m,\u001b[0m \u001b[0mx\u001b[0m\u001b[0;34m)\u001b[0m\u001b[0;34m:\u001b[0m\u001b[0;34m\u001b[0m\u001b[0;34m\u001b[0m\u001b[0m\n\u001b[0;32m----> 9\u001b[0;31m     \u001b[0;32mreturn\u001b[0m \u001b[0mself\u001b[0m\u001b[0;34m.\u001b[0m\u001b[0mfn\u001b[0m\u001b[0;34m(\u001b[0m\u001b[0mself\u001b[0m\u001b[0;34m.\u001b[0m\u001b[0mnorm\u001b[0m\u001b[0;34m(\u001b[0m\u001b[0mx\u001b[0m\u001b[0;34m)\u001b[0m\u001b[0;34m)\u001b[0m\u001b[0;34m\u001b[0m\u001b[0;34m\u001b[0m\u001b[0m\n\u001b[0m",
            "\u001b[0;32m/usr/local/lib/python3.8/dist-packages/torch/nn/modules/module.py\u001b[0m in \u001b[0;36m_call_impl\u001b[0;34m(self, *input, **kwargs)\u001b[0m\n\u001b[1;32m   1188\u001b[0m         if not (self._backward_hooks or self._forward_hooks or self._forward_pre_hooks or _global_backward_hooks\n\u001b[1;32m   1189\u001b[0m                 or _global_forward_hooks or _global_forward_pre_hooks):\n\u001b[0;32m-> 1190\u001b[0;31m             \u001b[0;32mreturn\u001b[0m \u001b[0mforward_call\u001b[0m\u001b[0;34m(\u001b[0m\u001b[0;34m*\u001b[0m\u001b[0minput\u001b[0m\u001b[0;34m,\u001b[0m \u001b[0;34m**\u001b[0m\u001b[0mkwargs\u001b[0m\u001b[0;34m)\u001b[0m\u001b[0;34m\u001b[0m\u001b[0;34m\u001b[0m\u001b[0m\n\u001b[0m\u001b[1;32m   1191\u001b[0m         \u001b[0;31m# Do not call functions when jit is used\u001b[0m\u001b[0;34m\u001b[0m\u001b[0;34m\u001b[0m\u001b[0;34m\u001b[0m\u001b[0m\n\u001b[1;32m   1192\u001b[0m         \u001b[0mfull_backward_hooks\u001b[0m\u001b[0;34m,\u001b[0m \u001b[0mnon_full_backward_hooks\u001b[0m \u001b[0;34m=\u001b[0m \u001b[0;34m[\u001b[0m\u001b[0;34m]\u001b[0m\u001b[0;34m,\u001b[0m \u001b[0;34m[\u001b[0m\u001b[0;34m]\u001b[0m\u001b[0;34m\u001b[0m\u001b[0;34m\u001b[0m\u001b[0m\n",
            "\u001b[0;32m/usr/local/lib/python3.8/dist-packages/torch/nn/modules/normalization.py\u001b[0m in \u001b[0;36mforward\u001b[0;34m(self, input)\u001b[0m\n\u001b[1;32m    188\u001b[0m \u001b[0;34m\u001b[0m\u001b[0m\n\u001b[1;32m    189\u001b[0m     \u001b[0;32mdef\u001b[0m \u001b[0mforward\u001b[0m\u001b[0;34m(\u001b[0m\u001b[0mself\u001b[0m\u001b[0;34m,\u001b[0m \u001b[0minput\u001b[0m\u001b[0;34m:\u001b[0m \u001b[0mTensor\u001b[0m\u001b[0;34m)\u001b[0m \u001b[0;34m->\u001b[0m \u001b[0mTensor\u001b[0m\u001b[0;34m:\u001b[0m\u001b[0;34m\u001b[0m\u001b[0;34m\u001b[0m\u001b[0m\n\u001b[0;32m--> 190\u001b[0;31m         return F.layer_norm(\n\u001b[0m\u001b[1;32m    191\u001b[0m             input, self.normalized_shape, self.weight, self.bias, self.eps)\n\u001b[1;32m    192\u001b[0m \u001b[0;34m\u001b[0m\u001b[0m\n",
            "\u001b[0;32m/usr/local/lib/python3.8/dist-packages/torch/nn/functional.py\u001b[0m in \u001b[0;36mlayer_norm\u001b[0;34m(input, normalized_shape, weight, bias, eps)\u001b[0m\n\u001b[1;32m   2513\u001b[0m             \u001b[0mlayer_norm\u001b[0m\u001b[0;34m,\u001b[0m \u001b[0;34m(\u001b[0m\u001b[0minput\u001b[0m\u001b[0;34m,\u001b[0m \u001b[0mweight\u001b[0m\u001b[0;34m,\u001b[0m \u001b[0mbias\u001b[0m\u001b[0;34m)\u001b[0m\u001b[0;34m,\u001b[0m \u001b[0minput\u001b[0m\u001b[0;34m,\u001b[0m \u001b[0mnormalized_shape\u001b[0m\u001b[0;34m,\u001b[0m \u001b[0mweight\u001b[0m\u001b[0;34m=\u001b[0m\u001b[0mweight\u001b[0m\u001b[0;34m,\u001b[0m \u001b[0mbias\u001b[0m\u001b[0;34m=\u001b[0m\u001b[0mbias\u001b[0m\u001b[0;34m,\u001b[0m \u001b[0meps\u001b[0m\u001b[0;34m=\u001b[0m\u001b[0meps\u001b[0m\u001b[0;34m\u001b[0m\u001b[0;34m\u001b[0m\u001b[0m\n\u001b[1;32m   2514\u001b[0m         )\n\u001b[0;32m-> 2515\u001b[0;31m     \u001b[0;32mreturn\u001b[0m \u001b[0mtorch\u001b[0m\u001b[0;34m.\u001b[0m\u001b[0mlayer_norm\u001b[0m\u001b[0;34m(\u001b[0m\u001b[0minput\u001b[0m\u001b[0;34m,\u001b[0m \u001b[0mnormalized_shape\u001b[0m\u001b[0;34m,\u001b[0m \u001b[0mweight\u001b[0m\u001b[0;34m,\u001b[0m \u001b[0mbias\u001b[0m\u001b[0;34m,\u001b[0m \u001b[0meps\u001b[0m\u001b[0;34m,\u001b[0m \u001b[0mtorch\u001b[0m\u001b[0;34m.\u001b[0m\u001b[0mbackends\u001b[0m\u001b[0;34m.\u001b[0m\u001b[0mcudnn\u001b[0m\u001b[0;34m.\u001b[0m\u001b[0menabled\u001b[0m\u001b[0;34m)\u001b[0m\u001b[0;34m\u001b[0m\u001b[0;34m\u001b[0m\u001b[0m\n\u001b[0m\u001b[1;32m   2516\u001b[0m \u001b[0;34m\u001b[0m\u001b[0m\n\u001b[1;32m   2517\u001b[0m \u001b[0;34m\u001b[0m\u001b[0m\n",
            "\u001b[0;31mRuntimeError\u001b[0m: Given normalized_shape=[512], expected input with shape [*, 512], but got input of size[128, 65, 256]"
          ]
        }
      ]
    },
    {
      "cell_type": "markdown",
      "source": [
        "# test data의 label과 output 비교\n"
      ],
      "metadata": {
        "id": "2YQHupMaT811"
      }
    },
    {
      "cell_type": "code",
      "source": [
        "def my_test(x):\n",
        "  net.eval() \n",
        "\n",
        "  with torch.no_grad():\n",
        "    outputs = net(x)\n",
        "    _, predicted = outputs.max(1)\n",
        "\n",
        "  return predicted"
      ],
      "metadata": {
        "id": "fVYdg6lP6vUe"
      },
      "execution_count": null,
      "outputs": []
    },
    {
      "cell_type": "code",
      "source": [
        "import random\n",
        "######### 0 ~ 9999 ###############\n",
        "#num = 10\n",
        "num = random.randint(0,9999)\n",
        "##################################\n",
        "\n",
        "compare_set = torchvision.datasets.CIFAR10(root='./data', train=False, download=False)\n",
        "img, _ = compare_set[num]\n",
        "\n",
        "x, label = testset[num]\n",
        "x = x.unsqueeze(dim=0).to(device)\n",
        "\n",
        "predicted = my_test(x)\n",
        "\n",
        "print('label:', classes[label])\n",
        "print('predicted:', classes[predicted])\n",
        "plt.imshow(img)\n",
        "print()"
      ],
      "metadata": {
        "colab": {
          "base_uri": "https://localhost:8080/",
          "height": 321
        },
        "id": "XfCHNLaYSVwe",
        "outputId": "b09d63ce-2426-457c-99cd-a390d7a63351"
      },
      "execution_count": null,
      "outputs": [
        {
          "output_type": "stream",
          "name": "stdout",
          "text": [
            "label: car\n",
            "predicted: car\n",
            "\n"
          ]
        },
        {
          "output_type": "display_data",
          "data": {
            "text/plain": [
              "<Figure size 432x288 with 1 Axes>"
            ],
            "image/png": "[encoded data removed]"
          },
          "metadata": {
            "needs_background": "light"
          }
        }
      ]
    },
    {
      "cell_type": "markdown",
      "source": [
        "# 학습된 모델 드라이브에 저장, 업로드"
      ],
      "metadata": {
        "id": "MDUncLKdUDZ7"
      }
    },
    {
      "cell_type": "code",
      "source": [
        "from google.colab import drive\n",
        "drive.mount('/content/gdrive')"
      ],
      "metadata": {
        "id": "4N_LfFHQO0LW"
      },
      "execution_count": null,
      "outputs": []
    },
    {
      "cell_type": "code",
      "source": [
        "!ls /content/gdrive/MyDrive"
      ],
      "metadata": {
        "id": "5wMfMAWDPI14"
      },
      "execution_count": null,
      "outputs": []
    },
    {
      "cell_type": "code",
      "source": [
        "model_save_name = 'simple_VIT.pt'\n",
        "path = F\"/content/gdrive/MyDrive/{model_save_name}\" \n",
        "torch.save(net.state_dict(), path)"
      ],
      "metadata": {
        "id": "mqUZ8bvFPo3-"
      },
      "execution_count": null,
      "outputs": []
    },
    {
      "cell_type": "code",
      "source": [
        "net.load_state_dict(torch.load(path))"
      ],
      "metadata": {
        "colab": {
          "base_uri": "https://localhost:8080/"
        },
        "id": "yklu7wXOSMaV",
        "outputId": "204034dc-f554-48ca-a953-be6255b9d946"
      },
      "execution_count": null,
      "outputs": [
        {
          "output_type": "execute_result",
          "data": {
            "text/plain": [
              "<All keys matched successfully>"
            ]
          },
          "metadata": {},
          "execution_count": 22
        }
      ]
    },
    {
      "cell_type": "markdown",
      "source": [
        "# 결과 저장한 배열 드라이브에 저장, 업로드"
      ],
      "metadata": {
        "id": "9_c8-dOpc894"
      }
    },
    {
      "cell_type": "code",
      "source": [
        "from google.colab import drive"
      ],
      "metadata": {
        "id": "3EtTgvLLJesb"
      },
      "execution_count": 23,
      "outputs": []
    },
    {
      "cell_type": "code",
      "source": [
        "drive.mount('/content/gdrive')"
      ],
      "metadata": {
        "colab": {
          "base_uri": "https://localhost:8080/"
        },
        "id": "9GdKhKATLasc",
        "outputId": "463b3efe-62f8-4a05-867d-0e42e12137cb"
      },
      "execution_count": 24,
      "outputs": [
        {
          "output_type": "stream",
          "name": "stdout",
          "text": [
            "Mounted at /content/gdrive\n"
          ]
        }
      ]
    },
    {
      "cell_type": "code",
      "source": [
        "!ls /content/gdrive/MyDrive/VIT_result"
      ],
      "metadata": {
        "colab": {
          "base_uri": "https://localhost:8080/"
        },
        "id": "6wcRF6K7Jprc",
        "outputId": "e9d9beca-3cde-4a0e-9414-92554a61e4bd"
      },
      "execution_count": 32,
      "outputs": [
        {
          "output_type": "stream",
          "name": "stdout",
          "text": [
            "np_list_accu2.npy  np_list_loss2.npy  np_lite_list_accu.npy\n",
            "np_list_accu.npy   np_list_loss.npy   np_lite_list_loss.npy\n"
          ]
        }
      ]
    },
    {
      "cell_type": "code",
      "source": [
        "np_list_accu = np.array(list_acc_lite_vit)\n",
        "np_list_loss = np.array(list_loss_lite_vit)\n",
        "\n",
        "np.save(F\"/content/gdrive/MyDrive/VIT_result/np_lite_list_accu\" , np_list_accu)\n",
        "np.save(F\"/content/gdrive/MyDrive/VIT_result/np_lite_list_loss\" , np_list_loss)"
      ],
      "metadata": {
        "id": "IeaUkvUsJC_m"
      },
      "execution_count": 26,
      "outputs": []
    },
    {
      "cell_type": "code",
      "source": [
        "%matplotlib inline \n",
        "plt.plot(np_list_accu, label = \"csps_acc\", color = 'blue')\n",
        "plt.ylim(0,100)\n",
        "plt.legend(loc = 0)\n",
        "plt.show()\n",
        "plt.plot(np_list_loss, label = \"csps_loss\", color = 'red')\n",
        "plt.legend(loc = 0)\n",
        "plt.show()"
      ],
      "metadata": {
        "id": "DgDZ4TrTLTku",
        "colab": {
          "base_uri": "https://localhost:8080/",
          "height": 519
        },
        "outputId": "fcc1fd87-b43e-47bc-9397-555c451a2c3b"
      },
      "execution_count": 27,
      "outputs": [
        {
          "output_type": "display_data",
          "data": {
            "text/plain": [
              "<Figure size 432x288 with 1 Axes>"
            ],
            "image/png": "[encoded data removed]"
          },
          "metadata": {
            "needs_background": "light"
          }
        },
        {
          "output_type": "display_data",
          "data": {
            "text/plain": [
              "<Figure size 432x288 with 1 Axes>"
            ],
            "image/png": "[encoded data removed]"
          },
          "metadata": {
            "needs_background": "light"
          }
        }
      ]
    },
    {
      "cell_type": "code",
      "source": [
        "accu_save = np.load(F\"/content/gdrive/MyDrive/VIT_result/np_lite_list_accu.npy\")\n",
        "loss_save = np.load(F\"/content/gdrive/MyDrive/VIT_result/np_lite_list_loss.npy\")"
      ],
      "metadata": {
        "id": "t69oVLGAKAtT"
      },
      "execution_count": 28,
      "outputs": []
    },
    {
      "cell_type": "code",
      "source": [
        "loss_save == np_list_loss"
      ],
      "metadata": {
        "colab": {
          "base_uri": "https://localhost:8080/"
        },
        "id": "T7otRgKyKJsL",
        "outputId": "a31fb62d-fb18-47e9-ec1d-6e97f8aa1bcf"
      },
      "execution_count": 29,
      "outputs": [
        {
          "output_type": "execute_result",
          "data": {
            "text/plain": [
              "array([ True,  True,  True,  True,  True,  True,  True,  True,  True,\n",
              "        True,  True,  True,  True,  True,  True,  True,  True,  True,\n",
              "        True,  True,  True,  True,  True,  True,  True,  True,  True,\n",
              "        True,  True,  True,  True,  True,  True,  True,  True,  True,\n",
              "        True,  True,  True,  True,  True,  True,  True,  True,  True,\n",
              "        True,  True,  True,  True,  True])"
            ]
          },
          "metadata": {},
          "execution_count": 29
        }
      ]
    },
    {
      "cell_type": "code",
      "source": [
        "accu_save_r = np.load(F\"/content/gdrive/MyDrive/VIT_result/np_list_accu.npy\")\n",
        "loss_save_r = np.load(F\"/content/gdrive/MyDrive/VIT_result/np_list_loss.npy\")"
      ],
      "metadata": {
        "id": "k3Ricm_2TQPi"
      },
      "execution_count": 30,
      "outputs": []
    },
    {
      "cell_type": "code",
      "source": [
        "%matplotlib inline \n",
        "plt.plot(accu_save, label = \"lite_acc\")\n",
        "plt.plot(accu_save_r, label = \"csps_acc\", color = 'blue')\n",
        "plt.ylim(0,100)\n",
        "plt.legend(loc = 0)\n",
        "plt.show()\n",
        "plt.plot(loss_save, label = \"lite_loss\")\n",
        "plt.plot(loss_save_r, label = \"csps_loss\", color = 'red')\n",
        "plt.legend(loc = 0)\n",
        "plt.show()"
      ],
      "metadata": {
        "colab": {
          "base_uri": "https://localhost:8080/",
          "height": 517
        },
        "id": "lCB9_RIfLy8l",
        "outputId": "15b720cb-9455-482e-df23-16cea7a82c4c"
      },
      "execution_count": 31,
      "outputs": [
        {
          "output_type": "display_data",
          "data": {
            "text/plain": [
              "<Figure size 432x288 with 1 Axes>"
            ],
            "image/png": "[encoded data removed]"
          },
          "metadata": {
            "needs_background": "light"
          }
        },
        {
          "output_type": "display_data",
          "data": {
            "text/plain": [
              "<Figure size 432x288 with 1 Axes>"
            ],
            "image/png": "[encoded data removed]"
          },
          "metadata": {
            "needs_background": "light"
          }
        }
      ]
    }
  ]
}